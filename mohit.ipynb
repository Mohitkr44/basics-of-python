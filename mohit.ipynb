{
 "cells": [
  {
   "cell_type": "code",
   "execution_count": 1,
   "id": "8b005603-1ee7-489a-8a44-377710a0c6f2",
   "metadata": {},
   "outputs": [],
   "source": [
    "a=10"
   ]
  },
  {
   "cell_type": "code",
   "execution_count": 2,
   "id": "59dd28cf-79be-4dc6-b7cb-106e4e6d4b85",
   "metadata": {},
   "outputs": [
    {
     "data": {
      "text/plain": [
       "10"
      ]
     },
     "execution_count": 2,
     "metadata": {},
     "output_type": "execute_result"
    }
   ],
   "source": [
    "a"
   ]
  },
  {
   "cell_type": "code",
   "execution_count": 5,
   "id": "ec00565a-e7b6-4c47-9487-1e3f30bccd90",
   "metadata": {},
   "outputs": [],
   "source": [
    "a=10"
   ]
  },
  {
   "cell_type": "code",
   "execution_count": 6,
   "id": "46417b5f-cc97-4774-87d0-a64c513269c3",
   "metadata": {},
   "outputs": [],
   "source": [
    "b=20"
   ]
  },
  {
   "cell_type": "code",
   "execution_count": 7,
   "id": "ac45894d-cd21-4c35-bdd1-ca6042c098c2",
   "metadata": {},
   "outputs": [
    {
     "data": {
      "text/plain": [
       "30"
      ]
     },
     "execution_count": 7,
     "metadata": {},
     "output_type": "execute_result"
    }
   ],
   "source": [
    "a+b"
   ]
  },
  {
   "cell_type": "code",
   "execution_count": 11,
   "id": "ff75bc95-7c86-48ae-a374-52ca6f540a3b",
   "metadata": {},
   "outputs": [
    {
     "data": {
      "text/plain": [
       "100"
      ]
     },
     "execution_count": 11,
     "metadata": {},
     "output_type": "execute_result"
    }
   ],
   "source": [
    "a*a"
   ]
  },
  {
   "cell_type": "code",
   "execution_count": 9,
   "id": "04dc2c20-4e86-4b2a-929f-f698b62b9072",
   "metadata": {},
   "outputs": [
    {
     "data": {
      "text/plain": [
       "200"
      ]
     },
     "execution_count": 9,
     "metadata": {},
     "output_type": "execute_result"
    }
   ],
   "source": [
    "a*b"
   ]
  },
  {
   "cell_type": "code",
   "execution_count": 10,
   "id": "bb302640-6d92-4f04-b1a1-a9491748c5aa",
   "metadata": {},
   "outputs": [
    {
     "data": {
      "text/plain": [
       "100"
      ]
     },
     "execution_count": 10,
     "metadata": {},
     "output_type": "execute_result"
    }
   ],
   "source": [
    "a*a"
   ]
  },
  {
   "cell_type": "code",
   "execution_count": 12,
   "id": "0f52ca4a-647c-4e14-9739-2720aa656372",
   "metadata": {},
   "outputs": [
    {
     "data": {
      "text/plain": [
       "400"
      ]
     },
     "execution_count": 12,
     "metadata": {},
     "output_type": "execute_result"
    }
   ],
   "source": [
    "b*b"
   ]
  },
  {
   "cell_type": "code",
   "execution_count": 13,
   "id": "2e55f11d-3010-41ef-8b8d-872fc89b1c9d",
   "metadata": {},
   "outputs": [
    {
     "data": {
      "text/plain": [
       "0.5"
      ]
     },
     "execution_count": 13,
     "metadata": {},
     "output_type": "execute_result"
    }
   ],
   "source": [
    "a/b"
   ]
  },
  {
   "cell_type": "code",
   "execution_count": 17,
   "id": "0a61f1f3-214c-4679-b174-ed41384646b3",
   "metadata": {},
   "outputs": [
    {
     "data": {
      "text/plain": [
       "2.0"
      ]
     },
     "execution_count": 17,
     "metadata": {},
     "output_type": "execute_result"
    }
   ],
   "source": [
    "b/a"
   ]
  },
  {
   "cell_type": "code",
   "execution_count": 15,
   "id": "95e08def-31af-4e86-9b39-0c5a423edfd8",
   "metadata": {},
   "outputs": [
    {
     "data": {
      "text/plain": [
       "2.0"
      ]
     },
     "execution_count": 15,
     "metadata": {},
     "output_type": "execute_result"
    }
   ],
   "source": [
    "b/a"
   ]
  },
  {
   "cell_type": "code",
   "execution_count": 16,
   "id": "4346e613-baf0-4655-8783-7dac5d8faec1",
   "metadata": {},
   "outputs": [
    {
     "data": {
      "text/plain": [
       "-300"
      ]
     },
     "execution_count": 16,
     "metadata": {},
     "output_type": "execute_result"
    }
   ],
   "source": [
    "(a+b)*(a-b)"
   ]
  },
  {
   "cell_type": "code",
   "execution_count": 19,
   "id": "837c7d30-569e-4695-b77e-05758b73a4e1",
   "metadata": {},
   "outputs": [
    {
     "name": "stdout",
     "output_type": "stream",
     "text": [
      "this is my first class\n"
     ]
    }
   ],
   "source": [
    "print('this is my first class')"
   ]
  },
  {
   "cell_type": "code",
   "execution_count": 20,
   "id": "02c0edae-2d01-4ba4-9311-3b2ad839757f",
   "metadata": {},
   "outputs": [
    {
     "data": {
      "text/plain": [
       "int"
      ]
     },
     "execution_count": 20,
     "metadata": {},
     "output_type": "execute_result"
    }
   ],
   "source": [
    "type(a)"
   ]
  },
  {
   "cell_type": "code",
   "execution_count": 21,
   "id": "990930ff-b31d-4fa8-8f7b-7d60e4a5fa4e",
   "metadata": {},
   "outputs": [
    {
     "data": {
      "text/plain": [
       "int"
      ]
     },
     "execution_count": 21,
     "metadata": {},
     "output_type": "execute_result"
    }
   ],
   "source": [
    "type(b)"
   ]
  },
  {
   "cell_type": "code",
   "execution_count": 22,
   "id": "f468a1fc-955c-48d8-b8f2-50aa3f9badf5",
   "metadata": {},
   "outputs": [],
   "source": [
    "a='mohit'"
   ]
  },
  {
   "cell_type": "code",
   "execution_count": 23,
   "id": "adb042e0-f768-4c5d-9cdd-defc695c882b",
   "metadata": {},
   "outputs": [
    {
     "data": {
      "text/plain": [
       "'mohit'"
      ]
     },
     "execution_count": 23,
     "metadata": {},
     "output_type": "execute_result"
    }
   ],
   "source": [
    "a"
   ]
  },
  {
   "cell_type": "code",
   "execution_count": 24,
   "id": "72caa357-b2c5-4728-80db-4eecd3b3034a",
   "metadata": {},
   "outputs": [
    {
     "data": {
      "text/plain": [
       "str"
      ]
     },
     "execution_count": 24,
     "metadata": {},
     "output_type": "execute_result"
    }
   ],
   "source": [
    "type(a)"
   ]
  },
  {
   "cell_type": "code",
   "execution_count": 25,
   "id": "8592e4e1-f04c-4f92-8e2c-cb97c87933fe",
   "metadata": {},
   "outputs": [],
   "source": [
    "c= 56567.33"
   ]
  },
  {
   "cell_type": "code",
   "execution_count": 26,
   "id": "3a8a8765-4059-419d-ae48-d4f785f8afb8",
   "metadata": {},
   "outputs": [
    {
     "data": {
      "text/plain": [
       "float"
      ]
     },
     "execution_count": 26,
     "metadata": {},
     "output_type": "execute_result"
    }
   ],
   "source": [
    "type(c)"
   ]
  },
  {
   "cell_type": "code",
   "execution_count": 28,
   "id": "5bf3f247-8eb1-49f3-ad52-bea32f9dce77",
   "metadata": {},
   "outputs": [],
   "source": [
    "d= 1223.5 + 9j"
   ]
  },
  {
   "cell_type": "code",
   "execution_count": 29,
   "id": "9a99616a-4efc-4db0-9d60-3ab8e9d13525",
   "metadata": {},
   "outputs": [
    {
     "data": {
      "text/plain": [
       "(1223.5+9j)"
      ]
     },
     "execution_count": 29,
     "metadata": {},
     "output_type": "execute_result"
    }
   ],
   "source": [
    "d"
   ]
  },
  {
   "cell_type": "code",
   "execution_count": 30,
   "id": "acbb3cc6-c029-44a9-971a-4a61768d676e",
   "metadata": {},
   "outputs": [
    {
     "data": {
      "text/plain": [
       "complex"
      ]
     },
     "execution_count": 30,
     "metadata": {},
     "output_type": "execute_result"
    }
   ],
   "source": [
    "type(d)"
   ]
  },
  {
   "cell_type": "code",
   "execution_count": 31,
   "id": "784b0ac7-efef-402e-b1a0-b46130a5bd98",
   "metadata": {},
   "outputs": [
    {
     "data": {
      "text/plain": [
       "type[(1223.5+9j)]"
      ]
     },
     "execution_count": 31,
     "metadata": {},
     "output_type": "execute_result"
    }
   ],
   "source": [
    "type[d]"
   ]
  },
  {
   "cell_type": "code",
   "execution_count": 32,
   "id": "be125a2a-e2f2-4095-a3a3-6321003ee8f4",
   "metadata": {},
   "outputs": [
    {
     "data": {
      "text/plain": [
       "(1223.5+9j)"
      ]
     },
     "execution_count": 32,
     "metadata": {},
     "output_type": "execute_result"
    }
   ],
   "source": [
    "d"
   ]
  },
  {
   "cell_type": "code",
   "execution_count": 34,
   "id": "60edcbb0-3698-481a-8044-83c6d95bbd12",
   "metadata": {},
   "outputs": [
    {
     "data": {
      "text/plain": [
       "complex"
      ]
     },
     "execution_count": 34,
     "metadata": {},
     "output_type": "execute_result"
    }
   ],
   "source": [
    "type(d)"
   ]
  },
  {
   "cell_type": "code",
   "execution_count": 35,
   "id": "477ac2e7-1a2c-4842-b1e8-97bc3ae3100d",
   "metadata": {},
   "outputs": [],
   "source": [
    "e = 'I am learning basics of python'"
   ]
  },
  {
   "cell_type": "code",
   "execution_count": 36,
   "id": "1002afe4-fef3-43f1-aa26-08a35f4ea465",
   "metadata": {},
   "outputs": [
    {
     "data": {
      "text/plain": [
       "'I am learning basics of python'"
      ]
     },
     "execution_count": 36,
     "metadata": {},
     "output_type": "execute_result"
    }
   ],
   "source": [
    "e"
   ]
  },
  {
   "cell_type": "code",
   "execution_count": 37,
   "id": "5b6e3726-fbdd-4bf4-9395-5cb963ab40de",
   "metadata": {},
   "outputs": [
    {
     "data": {
      "text/plain": [
       "str"
      ]
     },
     "execution_count": 37,
     "metadata": {},
     "output_type": "execute_result"
    }
   ],
   "source": [
    "type(e)"
   ]
  },
  {
   "cell_type": "code",
   "execution_count": 38,
   "id": "cc59bffc-e337-4ed7-985c-77df8814adfb",
   "metadata": {},
   "outputs": [],
   "source": [
    "a=10"
   ]
  },
  {
   "cell_type": "code",
   "execution_count": 39,
   "id": "7069415b-c454-44b4-9513-83cfac42f80e",
   "metadata": {},
   "outputs": [],
   "source": [
    "b=20"
   ]
  },
  {
   "cell_type": "code",
   "execution_count": 45,
   "id": "9bbb08c6-f68b-412e-ac3e-731eb32a09f1",
   "metadata": {},
   "outputs": [
    {
     "data": {
      "text/plain": [
       "30"
      ]
     },
     "execution_count": 45,
     "metadata": {},
     "output_type": "execute_result"
    }
   ],
   "source": [
    "a+b"
   ]
  },
  {
   "cell_type": "code",
   "execution_count": 42,
   "id": "aaed6b60-0d83-4a4f-ab75-003611a5cab3",
   "metadata": {},
   "outputs": [
    {
     "data": {
      "text/plain": [
       "56567.33"
      ]
     },
     "execution_count": 42,
     "metadata": {},
     "output_type": "execute_result"
    }
   ],
   "source": [
    "c"
   ]
  },
  {
   "cell_type": "code",
   "execution_count": 46,
   "id": "5da100cc-6977-45d2-8331-f84c51bd1b45",
   "metadata": {},
   "outputs": [],
   "source": [
    "t= True"
   ]
  },
  {
   "cell_type": "code",
   "execution_count": 47,
   "id": "2622f839-d4df-4242-b289-fd6e695a7d53",
   "metadata": {},
   "outputs": [
    {
     "data": {
      "text/plain": [
       "True"
      ]
     },
     "execution_count": 47,
     "metadata": {},
     "output_type": "execute_result"
    }
   ],
   "source": [
    "t"
   ]
  },
  {
   "cell_type": "code",
   "execution_count": 48,
   "id": "bf7e692e-a7bb-468b-8eda-8cabb522d4fc",
   "metadata": {},
   "outputs": [
    {
     "data": {
      "text/plain": [
       "bool"
      ]
     },
     "execution_count": 48,
     "metadata": {},
     "output_type": "execute_result"
    }
   ],
   "source": [
    "type(t)"
   ]
  },
  {
   "cell_type": "code",
   "execution_count": 49,
   "id": "065b027e-1806-4f71-8b65-5a42cc77d39f",
   "metadata": {},
   "outputs": [],
   "source": [
    "f= False"
   ]
  },
  {
   "cell_type": "code",
   "execution_count": 50,
   "id": "8d477763-7746-4fc2-bc90-4e1a61329b75",
   "metadata": {},
   "outputs": [
    {
     "data": {
      "text/plain": [
       "False"
      ]
     },
     "execution_count": 50,
     "metadata": {},
     "output_type": "execute_result"
    }
   ],
   "source": [
    "f"
   ]
  },
  {
   "cell_type": "code",
   "execution_count": 51,
   "id": "265c048f-d892-4979-aba0-ff2d709b384e",
   "metadata": {},
   "outputs": [
    {
     "data": {
      "text/plain": [
       "bool"
      ]
     },
     "execution_count": 51,
     "metadata": {},
     "output_type": "execute_result"
    }
   ],
   "source": [
    "type(f)"
   ]
  },
  {
   "cell_type": "code",
   "execution_count": 52,
   "id": "99c4a43b-6a47-4f56-a54b-51958fba85c4",
   "metadata": {},
   "outputs": [
    {
     "data": {
      "text/plain": [
       "1"
      ]
     },
     "execution_count": 52,
     "metadata": {},
     "output_type": "execute_result"
    }
   ],
   "source": [
    "t+f"
   ]
  },
  {
   "cell_type": "code",
   "execution_count": 53,
   "id": "2ec13b1a-9156-40a8-b4bd-bc4e7f893573",
   "metadata": {},
   "outputs": [
    {
     "data": {
      "text/plain": [
       "-1"
      ]
     },
     "execution_count": 53,
     "metadata": {},
     "output_type": "execute_result"
    }
   ],
   "source": [
    "f-t"
   ]
  },
  {
   "cell_type": "code",
   "execution_count": 54,
   "id": "63f32a08-2192-4cfd-9f4e-372511fd2438",
   "metadata": {},
   "outputs": [
    {
     "data": {
      "text/plain": [
       "0.0"
      ]
     },
     "execution_count": 54,
     "metadata": {},
     "output_type": "execute_result"
    }
   ],
   "source": [
    "f/t"
   ]
  },
  {
   "cell_type": "code",
   "execution_count": 55,
   "id": "e7ef7b36-4ca2-4978-9905-b288ce63adeb",
   "metadata": {},
   "outputs": [
    {
     "data": {
      "text/plain": [
       "1"
      ]
     },
     "execution_count": 55,
     "metadata": {},
     "output_type": "execute_result"
    }
   ],
   "source": [
    "t*t"
   ]
  },
  {
   "cell_type": "code",
   "execution_count": 57,
   "id": "dca3a8a0-11ca-4156-a32f-3ca3eac24f6a",
   "metadata": {},
   "outputs": [
    {
     "data": {
      "text/plain": [
       "0"
      ]
     },
     "execution_count": 57,
     "metadata": {},
     "output_type": "execute_result"
    }
   ],
   "source": [
    "t*f"
   ]
  },
  {
   "cell_type": "code",
   "execution_count": 59,
   "id": "e4948486-dae3-48a6-9dce-df15daad7405",
   "metadata": {},
   "outputs": [
    {
     "data": {
      "text/plain": [
       "0.0"
      ]
     },
     "execution_count": 59,
     "metadata": {},
     "output_type": "execute_result"
    }
   ],
   "source": [
    "f/t"
   ]
  },
  {
   "cell_type": "code",
   "execution_count": 60,
   "id": "8d261d28-74e7-4f6e-ab38-4f9caf645804",
   "metadata": {},
   "outputs": [],
   "source": [
    "z=6+5J"
   ]
  },
  {
   "cell_type": "code",
   "execution_count": 61,
   "id": "2053e241-8957-4cdf-b71e-a48a4d93fad9",
   "metadata": {},
   "outputs": [
    {
     "data": {
      "text/plain": [
       "(6+5j)"
      ]
     },
     "execution_count": 61,
     "metadata": {},
     "output_type": "execute_result"
    }
   ],
   "source": [
    "z"
   ]
  },
  {
   "cell_type": "code",
   "execution_count": 62,
   "id": "5c59f997-52df-4d0e-9f43-7e92f46feda3",
   "metadata": {},
   "outputs": [
    {
     "data": {
      "text/plain": [
       "complex"
      ]
     },
     "execution_count": 62,
     "metadata": {},
     "output_type": "execute_result"
    }
   ],
   "source": [
    "type(z)"
   ]
  },
  {
   "cell_type": "code",
   "execution_count": 63,
   "id": "7a15fc66-e990-423c-bce7-3c73a8072419",
   "metadata": {},
   "outputs": [
    {
     "data": {
      "text/plain": [
       "6.0"
      ]
     },
     "execution_count": 63,
     "metadata": {},
     "output_type": "execute_result"
    }
   ],
   "source": [
    "z.real"
   ]
  },
  {
   "cell_type": "code",
   "execution_count": 64,
   "id": "8c563cd3-d0bc-433d-a149-1fc8d6700fd0",
   "metadata": {},
   "outputs": [
    {
     "data": {
      "text/plain": [
       "5.0"
      ]
     },
     "execution_count": 64,
     "metadata": {},
     "output_type": "execute_result"
    }
   ],
   "source": [
    "z.imag"
   ]
  },
  {
   "cell_type": "code",
   "execution_count": 65,
   "id": "8b9cc2fd-94af-4e9b-aedd-447571c9bd44",
   "metadata": {},
   "outputs": [
    {
     "data": {
      "text/plain": [
       "<function complex.conjugate()>"
      ]
     },
     "execution_count": 65,
     "metadata": {},
     "output_type": "execute_result"
    }
   ],
   "source": [
    "z.conjugate"
   ]
  },
  {
   "cell_type": "code",
   "execution_count": 66,
   "id": "3e3355b6-df1c-4aa3-a13a-0abbe7036b99",
   "metadata": {},
   "outputs": [
    {
     "data": {
      "text/plain": [
       "6.0"
      ]
     },
     "execution_count": 66,
     "metadata": {},
     "output_type": "execute_result"
    }
   ],
   "source": [
    "z.real"
   ]
  },
  {
   "cell_type": "code",
   "execution_count": 67,
   "id": "0c96bc5c-de4b-4ca1-8a51-0ccf630faec0",
   "metadata": {},
   "outputs": [
    {
     "data": {
      "text/plain": [
       "5.0"
      ]
     },
     "execution_count": 67,
     "metadata": {},
     "output_type": "execute_result"
    }
   ],
   "source": [
    "z.imag"
   ]
  },
  {
   "cell_type": "code",
   "execution_count": 68,
   "id": "2c95e3c9-40b9-43b9-94ba-3c3bb0b6a779",
   "metadata": {},
   "outputs": [
    {
     "data": {
      "text/plain": [
       "(6+5j)"
      ]
     },
     "execution_count": 68,
     "metadata": {},
     "output_type": "execute_result"
    }
   ],
   "source": [
    "z"
   ]
  },
  {
   "cell_type": "code",
   "execution_count": 69,
   "id": "cb19aa63-8dab-4671-a5d6-8a0240522a8a",
   "metadata": {},
   "outputs": [
    {
     "name": "stdout",
     "output_type": "stream",
     "text": [
      "(6+5j)\n"
     ]
    }
   ],
   "source": [
    "print(z)"
   ]
  },
  {
   "cell_type": "code",
   "execution_count": 71,
   "id": "b349b255-a105-435f-9966-318c83439c15",
   "metadata": {},
   "outputs": [
    {
     "name": "stdout",
     "output_type": "stream",
     "text": [
      "10\n"
     ]
    }
   ],
   "source": [
    "print (a)"
   ]
  },
  {
   "cell_type": "code",
   "execution_count": 73,
   "id": "ee8b88ad-6016-4546-b14d-8b62e634996a",
   "metadata": {},
   "outputs": [],
   "source": [
    "p= 'pwskills'"
   ]
  },
  {
   "cell_type": "code",
   "execution_count": 74,
   "id": "c97c54d9-b2f2-4b0e-8a7c-e6fe0e47a68f",
   "metadata": {},
   "outputs": [
    {
     "data": {
      "text/plain": [
       "'pwskills'"
      ]
     },
     "execution_count": 74,
     "metadata": {},
     "output_type": "execute_result"
    }
   ],
   "source": [
    "p"
   ]
  },
  {
   "cell_type": "code",
   "execution_count": 76,
   "id": "eac46333-f547-4fe4-a79d-9f7684c47882",
   "metadata": {},
   "outputs": [
    {
     "data": {
      "text/plain": [
       "str"
      ]
     },
     "execution_count": 76,
     "metadata": {},
     "output_type": "execute_result"
    }
   ],
   "source": [
    "type(p)"
   ]
  },
  {
   "cell_type": "code",
   "execution_count": 77,
   "id": "9f0deed7-fcfb-4527-b9c9-cae65117585f",
   "metadata": {},
   "outputs": [
    {
     "data": {
      "text/plain": [
       "'p'"
      ]
     },
     "execution_count": 77,
     "metadata": {},
     "output_type": "execute_result"
    }
   ],
   "source": [
    "p[0]"
   ]
  },
  {
   "cell_type": "code",
   "execution_count": 78,
   "id": "ca0ff870-396f-4a12-ac81-de7f053cf02b",
   "metadata": {},
   "outputs": [
    {
     "data": {
      "text/plain": [
       "'s'"
      ]
     },
     "execution_count": 78,
     "metadata": {},
     "output_type": "execute_result"
    }
   ],
   "source": [
    "p[7]"
   ]
  },
  {
   "cell_type": "code",
   "execution_count": 79,
   "id": "9fcb1dee-ced2-4149-9018-d57f7e663596",
   "metadata": {},
   "outputs": [
    {
     "data": {
      "text/plain": [
       "'s'"
      ]
     },
     "execution_count": 79,
     "metadata": {},
     "output_type": "execute_result"
    }
   ],
   "source": [
    "p[2]"
   ]
  },
  {
   "cell_type": "code",
   "execution_count": 82,
   "id": "4448ce45-ce2e-42f8-be49-1585839e6d36",
   "metadata": {},
   "outputs": [
    {
     "data": {
      "text/plain": [
       "'l'"
      ]
     },
     "execution_count": 82,
     "metadata": {},
     "output_type": "execute_result"
    }
   ],
   "source": [
    "p[6]"
   ]
  },
  {
   "cell_type": "code",
   "execution_count": 83,
   "id": "ee60537a-480f-432c-b3c6-5fa3dc147210",
   "metadata": {},
   "outputs": [
    {
     "data": {
      "text/plain": [
       "'s'"
      ]
     },
     "execution_count": 83,
     "metadata": {},
     "output_type": "execute_result"
    }
   ],
   "source": [
    "p[-1]"
   ]
  },
  {
   "cell_type": "code",
   "execution_count": 84,
   "id": "2637d62b-16cb-4bf8-8ede-41641dfc49bb",
   "metadata": {},
   "outputs": [
    {
     "data": {
      "text/plain": [
       "'pw'"
      ]
     },
     "execution_count": 84,
     "metadata": {},
     "output_type": "execute_result"
    }
   ],
   "source": [
    "p[0:2]"
   ]
  },
  {
   "cell_type": "code",
   "execution_count": 85,
   "id": "046bbe63-cf8e-44a5-a052-686ccb60f04b",
   "metadata": {},
   "outputs": [
    {
     "data": {
      "text/plain": [
       "'pws'"
      ]
     },
     "execution_count": 85,
     "metadata": {},
     "output_type": "execute_result"
    }
   ],
   "source": [
    "p[0:3]"
   ]
  },
  {
   "cell_type": "code",
   "execution_count": 86,
   "id": "8c728d8c-d034-4701-b95a-76ce96e97fb2",
   "metadata": {},
   "outputs": [
    {
     "data": {
      "text/plain": [
       "'skills'"
      ]
     },
     "execution_count": 86,
     "metadata": {},
     "output_type": "execute_result"
    }
   ],
   "source": [
    "p[2:8]"
   ]
  },
  {
   "cell_type": "code",
   "execution_count": 88,
   "id": "a24cf380-4118-4fda-9cb3-9de4ba57d2da",
   "metadata": {},
   "outputs": [
    {
     "data": {
      "text/plain": [
       "''"
      ]
     },
     "execution_count": 88,
     "metadata": {},
     "output_type": "execute_result"
    }
   ],
   "source": [
    "p[-1:-7]"
   ]
  },
  {
   "cell_type": "code",
   "execution_count": 90,
   "id": "6886b58e-b7e4-44d7-a4a9-022bf734febd",
   "metadata": {},
   "outputs": [
    {
     "data": {
      "text/plain": [
       "'s'"
      ]
     },
     "execution_count": 90,
     "metadata": {},
     "output_type": "execute_result"
    }
   ],
   "source": [
    "p[-1]"
   ]
  },
  {
   "cell_type": "code",
   "execution_count": 91,
   "id": "e0838398-e88b-4f41-810f-d3bf0e49361f",
   "metadata": {},
   "outputs": [
    {
     "data": {
      "text/plain": [
       "''"
      ]
     },
     "execution_count": 91,
     "metadata": {},
     "output_type": "execute_result"
    }
   ],
   "source": [
    "p[0:-8]"
   ]
  },
  {
   "cell_type": "code",
   "execution_count": 92,
   "id": "2152c1ad-bb48-4548-8c57-34cde94a473d",
   "metadata": {},
   "outputs": [
    {
     "data": {
      "text/plain": [
       "'psil'"
      ]
     },
     "execution_count": 92,
     "metadata": {},
     "output_type": "execute_result"
    }
   ],
   "source": [
    "p[0:8:2]"
   ]
  },
  {
   "cell_type": "code",
   "execution_count": 93,
   "id": "4eba9b6f-0fee-4e39-93da-210f2e6356eb",
   "metadata": {},
   "outputs": [
    {
     "data": {
      "text/plain": [
       "'sl'"
      ]
     },
     "execution_count": 93,
     "metadata": {},
     "output_type": "execute_result"
    }
   ],
   "source": [
    "p[2:8:3]"
   ]
  },
  {
   "cell_type": "code",
   "execution_count": 94,
   "id": "e6a01eb0-01de-4a62-bebb-a04402fa44bd",
   "metadata": {},
   "outputs": [
    {
     "data": {
      "text/plain": [
       "'sil'"
      ]
     },
     "execution_count": 94,
     "metadata": {},
     "output_type": "execute_result"
    }
   ],
   "source": [
    "p[2::2]"
   ]
  },
  {
   "cell_type": "code",
   "execution_count": 95,
   "id": "60c4a8aa-47e5-4e4d-95d5-b6198067f399",
   "metadata": {},
   "outputs": [
    {
     "data": {
      "text/plain": [
       "'psil'"
      ]
     },
     "execution_count": 95,
     "metadata": {},
     "output_type": "execute_result"
    }
   ],
   "source": [
    "p[0::2]"
   ]
  },
  {
   "cell_type": "code",
   "execution_count": 96,
   "id": "417866a1-c7f0-427d-8451-bb62a07bf445",
   "metadata": {},
   "outputs": [
    {
     "data": {
      "text/plain": [
       "'sllikswp'"
      ]
     },
     "execution_count": 96,
     "metadata": {},
     "output_type": "execute_result"
    }
   ],
   "source": [
    "p[::-1]"
   ]
  },
  {
   "cell_type": "code",
   "execution_count": 98,
   "id": "7d2a2119-5da2-4e17-b66e-1054fe21cad0",
   "metadata": {},
   "outputs": [
    {
     "data": {
      "text/plain": [
       "''"
      ]
     },
     "execution_count": 98,
     "metadata": {},
     "output_type": "execute_result"
    }
   ],
   "source": [
    "p[2:7:-1]"
   ]
  },
  {
   "cell_type": "code",
   "execution_count": 100,
   "id": "2d4a413d-b863-4fa6-bd10-521f98b51873",
   "metadata": {},
   "outputs": [
    {
     "data": {
      "text/plain": [
       "''"
      ]
     },
     "execution_count": 100,
     "metadata": {},
     "output_type": "execute_result"
    }
   ],
   "source": [
    "p[-1:-2:2]"
   ]
  },
  {
   "cell_type": "code",
   "execution_count": 101,
   "id": "7f25c054-8e69-4f0f-8ff5-b9be0cdd70db",
   "metadata": {},
   "outputs": [
    {
     "data": {
      "text/plain": [
       "'slliksw'"
      ]
     },
     "execution_count": 101,
     "metadata": {},
     "output_type": "execute_result"
    }
   ],
   "source": [
    "p[8:0:-1]"
   ]
  },
  {
   "cell_type": "code",
   "execution_count": 103,
   "id": "d3d231b9-4c10-473f-add8-dff8cf6a1032",
   "metadata": {},
   "outputs": [
    {
     "data": {
      "text/plain": [
       "'slkw'"
      ]
     },
     "execution_count": 103,
     "metadata": {},
     "output_type": "execute_result"
    }
   ],
   "source": [
    "p[8:0:-2]"
   ]
  },
  {
   "cell_type": "code",
   "execution_count": 104,
   "id": "57a04d16-dda9-44d3-bec7-69d904b0a8b5",
   "metadata": {},
   "outputs": [
    {
     "data": {
      "text/plain": [
       "''"
      ]
     },
     "execution_count": 104,
     "metadata": {},
     "output_type": "execute_result"
    }
   ],
   "source": [
    "p[8:0]"
   ]
  },
  {
   "cell_type": "code",
   "execution_count": 105,
   "id": "3c3f1de7-398a-443b-8c79-0c84d902ca32",
   "metadata": {},
   "outputs": [
    {
     "data": {
      "text/plain": [
       "''"
      ]
     },
     "execution_count": 105,
     "metadata": {},
     "output_type": "execute_result"
    }
   ],
   "source": [
    "p[-2:-8:1]"
   ]
  },
  {
   "cell_type": "code",
   "execution_count": 106,
   "id": "af978b64-7b39-438f-bd0f-219e9edb3f10",
   "metadata": {},
   "outputs": [
    {
     "data": {
      "text/plain": [
       "'lliksw'"
      ]
     },
     "execution_count": 106,
     "metadata": {},
     "output_type": "execute_result"
    }
   ],
   "source": [
    "p[-2:-8:-1]"
   ]
  },
  {
   "cell_type": "code",
   "execution_count": 107,
   "id": "177bf7b4-7630-4a27-a715-a3d0879088fe",
   "metadata": {},
   "outputs": [
    {
     "data": {
      "text/plain": [
       "''"
      ]
     },
     "execution_count": 107,
     "metadata": {},
     "output_type": "execute_result"
    }
   ],
   "source": [
    "p[-1:-8]"
   ]
  },
  {
   "cell_type": "code",
   "execution_count": 109,
   "id": "d497358e-647e-411e-b228-461cc54135cc",
   "metadata": {},
   "outputs": [
    {
     "data": {
      "text/plain": [
       "'sllikswp'"
      ]
     },
     "execution_count": 109,
     "metadata": {},
     "output_type": "execute_result"
    }
   ],
   "source": [
    "p[-1:-9:-1]"
   ]
  },
  {
   "cell_type": "code",
   "execution_count": 110,
   "id": "7d7f91d0-759e-47b6-9fa3-310a483bee75",
   "metadata": {},
   "outputs": [
    {
     "data": {
      "text/plain": [
       "'pwskills'"
      ]
     },
     "execution_count": 110,
     "metadata": {},
     "output_type": "execute_result"
    }
   ],
   "source": [
    "p[::1]"
   ]
  },
  {
   "cell_type": "code",
   "execution_count": 111,
   "id": "f714822e-cc71-49e6-840a-eba352885a36",
   "metadata": {},
   "outputs": [
    {
     "data": {
      "text/plain": [
       "'sllikswp'"
      ]
     },
     "execution_count": 111,
     "metadata": {},
     "output_type": "execute_result"
    }
   ],
   "source": [
    "p[::-1]"
   ]
  },
  {
   "cell_type": "code",
   "execution_count": 112,
   "id": "bee88e10-a74a-480e-a713-8494d50d2f18",
   "metadata": {},
   "outputs": [
    {
     "data": {
      "text/plain": [
       "''"
      ]
     },
     "execution_count": 112,
     "metadata": {},
     "output_type": "execute_result"
    }
   ],
   "source": [
    "p[:-90:]"
   ]
  },
  {
   "cell_type": "code",
   "execution_count": 113,
   "id": "06d4da5c-3ccf-424f-88d9-829fa40ad8b1",
   "metadata": {},
   "outputs": [
    {
     "data": {
      "text/plain": [
       "'sllikswp'"
      ]
     },
     "execution_count": 113,
     "metadata": {},
     "output_type": "execute_result"
    }
   ],
   "source": [
    "p[:-90:-1]"
   ]
  },
  {
   "cell_type": "code",
   "execution_count": 115,
   "id": "a9d2e486-d403-4524-8b29-02f47cdedb13",
   "metadata": {},
   "outputs": [
    {
     "data": {
      "text/plain": [
       "'pwskills'"
      ]
     },
     "execution_count": 115,
     "metadata": {},
     "output_type": "execute_result"
    }
   ],
   "source": [
    "p[:90:1]"
   ]
  },
  {
   "cell_type": "code",
   "execution_count": 116,
   "id": "1a0e4faf-b2af-4edd-9bbd-c0b472ff45df",
   "metadata": {},
   "outputs": [],
   "source": [
    "c=200\n"
   ]
  },
  {
   "cell_type": "code",
   "execution_count": 118,
   "id": "b5265896-6792-4391-8a94-b3f9b81171cb",
   "metadata": {},
   "outputs": [],
   "source": [
    "c =-2+6j"
   ]
  },
  {
   "cell_type": "code",
   "execution_count": 119,
   "id": "72db3223-3c8c-4b83-a7b1-3e8771c615df",
   "metadata": {},
   "outputs": [
    {
     "data": {
      "text/plain": [
       "-2.0"
      ]
     },
     "execution_count": 119,
     "metadata": {},
     "output_type": "execute_result"
    }
   ],
   "source": [
    "c.real"
   ]
  },
  {
   "cell_type": "code",
   "execution_count": 120,
   "id": "228d550a-b04f-406f-872f-4c9b6d633965",
   "metadata": {},
   "outputs": [],
   "source": [
    "s1= 'this is my first string class'"
   ]
  },
  {
   "cell_type": "code",
   "execution_count": 122,
   "id": "508e1141-3dac-4e22-b148-8b9055d0c630",
   "metadata": {},
   "outputs": [
    {
     "data": {
      "text/plain": [
       "29"
      ]
     },
     "execution_count": 122,
     "metadata": {},
     "output_type": "execute_result"
    }
   ],
   "source": [
    "len(s1)"
   ]
  },
  {
   "cell_type": "code",
   "execution_count": 124,
   "id": "f96e6f23-313c-4e5c-b6cc-f9596ae02456",
   "metadata": {},
   "outputs": [
    {
     "data": {
      "text/plain": [
       "6"
      ]
     },
     "execution_count": 124,
     "metadata": {},
     "output_type": "execute_result"
    }
   ],
   "source": [
    "s1.count('s')"
   ]
  },
  {
   "cell_type": "code",
   "execution_count": 125,
   "id": "9a49e4a9-ff78-46be-9025-934ab2dd3a08",
   "metadata": {},
   "outputs": [
    {
     "data": {
      "text/plain": [
       "3"
      ]
     },
     "execution_count": 125,
     "metadata": {},
     "output_type": "execute_result"
    }
   ],
   "source": [
    "s1.find('s')"
   ]
  },
  {
   "cell_type": "code",
   "execution_count": 126,
   "id": "63516c94-123a-41f2-853e-86ca2e4860c3",
   "metadata": {},
   "outputs": [
    {
     "data": {
      "text/plain": [
       "14"
      ]
     },
     "execution_count": 126,
     "metadata": {},
     "output_type": "execute_result"
    }
   ],
   "source": [
    "s1.find('st')"
   ]
  },
  {
   "cell_type": "code",
   "execution_count": 127,
   "id": "edbee5ed-5d4d-4fd6-ae3c-4ad6b8f7f842",
   "metadata": {},
   "outputs": [
    {
     "data": {
      "text/plain": [
       "'This is my first string class'"
      ]
     },
     "execution_count": 127,
     "metadata": {},
     "output_type": "execute_result"
    }
   ],
   "source": [
    "s1.capitalize()"
   ]
  },
  {
   "cell_type": "code",
   "execution_count": 129,
   "id": "f064cda4-afb8-4ba6-a263-4c17d0e24b3e",
   "metadata": {},
   "outputs": [
    {
     "data": {
      "text/plain": [
       "'This Is My First String Class'"
      ]
     },
     "execution_count": 129,
     "metadata": {},
     "output_type": "execute_result"
    }
   ],
   "source": [
    "s1.title()"
   ]
  },
  {
   "cell_type": "code",
   "execution_count": 132,
   "id": "7f4dcc61-d4bd-49a7-afa0-8f1c7bb7013f",
   "metadata": {},
   "outputs": [
    {
     "data": {
      "text/plain": [
       "3"
      ]
     },
     "execution_count": 132,
     "metadata": {},
     "output_type": "execute_result"
    }
   ],
   "source": [
    "s1.count('t')"
   ]
  },
  {
   "cell_type": "code",
   "execution_count": 133,
   "id": "90ff2293-b40a-4a14-9b15-e7ad7df528e8",
   "metadata": {},
   "outputs": [
    {
     "data": {
      "text/plain": [
       "2"
      ]
     },
     "execution_count": 133,
     "metadata": {},
     "output_type": "execute_result"
    }
   ],
   "source": [
    "s1.find('i')"
   ]
  },
  {
   "cell_type": "code",
   "execution_count": 134,
   "id": "122b692a-6ae5-429b-9880-7c7a25683cbc",
   "metadata": {},
   "outputs": [
    {
     "data": {
      "text/plain": [
       "'pwskills'"
      ]
     },
     "execution_count": 134,
     "metadata": {},
     "output_type": "execute_result"
    }
   ],
   "source": [
    "p"
   ]
  },
  {
   "cell_type": "code",
   "execution_count": 135,
   "id": "ddf5a37d-3727-404c-b571-f039e581603f",
   "metadata": {},
   "outputs": [
    {
     "ename": "TypeError",
     "evalue": "can only concatenate str (not \"int\") to str",
     "output_type": "error",
     "traceback": [
      "\u001b[0;31m---------------------------------------------------------------------------\u001b[0m",
      "\u001b[0;31mTypeError\u001b[0m                                 Traceback (most recent call last)",
      "Cell \u001b[0;32mIn[135], line 1\u001b[0m\n\u001b[0;32m----> 1\u001b[0m \u001b[43mp\u001b[49m\u001b[38;5;241;43m+\u001b[39;49m\u001b[38;5;241;43m1\u001b[39;49m\n",
      "\u001b[0;31mTypeError\u001b[0m: can only concatenate str (not \"int\") to str"
     ]
    }
   ],
   "source": [
    "p+1"
   ]
  },
  {
   "cell_type": "code",
   "execution_count": 136,
   "id": "41ab0fba-88ac-48f6-a5e8-c9b66491339a",
   "metadata": {},
   "outputs": [
    {
     "ename": "NameError",
     "evalue": "name 'mohit' is not defined",
     "output_type": "error",
     "traceback": [
      "\u001b[0;31m---------------------------------------------------------------------------\u001b[0m",
      "\u001b[0;31mNameError\u001b[0m                                 Traceback (most recent call last)",
      "Cell \u001b[0;32mIn[136], line 1\u001b[0m\n\u001b[0;32m----> 1\u001b[0m p\u001b[38;5;241m+\u001b[39m \u001b[43mmohit\u001b[49m\n",
      "\u001b[0;31mNameError\u001b[0m: name 'mohit' is not defined"
     ]
    }
   ],
   "source": [
    "p+ mohit"
   ]
  },
  {
   "cell_type": "code",
   "execution_count": 138,
   "id": "eb64dc0d-260d-479c-aa86-f22a68bf9350",
   "metadata": {},
   "outputs": [],
   "source": [
    "m='mohit'"
   ]
  },
  {
   "cell_type": "code",
   "execution_count": 140,
   "id": "ac29f6e3-58fa-4fdb-bc18-529c245b10eb",
   "metadata": {},
   "outputs": [
    {
     "data": {
      "text/plain": [
       "'pwskillsmohit'"
      ]
     },
     "execution_count": 140,
     "metadata": {},
     "output_type": "execute_result"
    }
   ],
   "source": [
    "p  + m"
   ]
  },
  {
   "cell_type": "code",
   "execution_count": 141,
   "id": "0d859437-be00-4bed-af91-c3692650c3ca",
   "metadata": {},
   "outputs": [
    {
     "data": {
      "text/plain": [
       "'pwskillspwskillspwskills'"
      ]
     },
     "execution_count": 141,
     "metadata": {},
     "output_type": "execute_result"
    }
   ],
   "source": [
    "p*3"
   ]
  },
  {
   "cell_type": "code",
   "execution_count": 142,
   "id": "b91e2e67-92fd-4759-8674-d57a5f9e4320",
   "metadata": {},
   "outputs": [
    {
     "data": {
      "text/plain": [
       "'mohitmohitmohit'"
      ]
     },
     "execution_count": 142,
     "metadata": {},
     "output_type": "execute_result"
    }
   ],
   "source": [
    "m*3"
   ]
  },
  {
   "cell_type": "code",
   "execution_count": 143,
   "id": "1794d372-c3ac-4ffd-aadb-64670cb83a68",
   "metadata": {},
   "outputs": [
    {
     "ename": "SyntaxError",
     "evalue": "unterminated string literal (detected at line 1) (3296948460.py, line 1)",
     "output_type": "error",
     "traceback": [
      "\u001b[0;36m  Cell \u001b[0;32mIn[143], line 1\u001b[0;36m\u001b[0m\n\u001b[0;31m    'don't do copy paste in class'\u001b[0m\n\u001b[0m                                 ^\u001b[0m\n\u001b[0;31mSyntaxError\u001b[0m\u001b[0;31m:\u001b[0m unterminated string literal (detected at line 1)\n"
     ]
    }
   ],
   "source": [
    "'don't do copy paste in class'"
   ]
  },
  {
   "cell_type": "code",
   "execution_count": 144,
   "id": "32431ec3-bab0-4ec2-bdde-06cb14044672",
   "metadata": {},
   "outputs": [
    {
     "data": {
      "text/plain": [
       "\"don't do copy paste in class\""
      ]
     },
     "execution_count": 144,
     "metadata": {},
     "output_type": "execute_result"
    }
   ],
   "source": [
    "\"don't do copy paste in class\""
   ]
  },
  {
   "cell_type": "code",
   "execution_count": 145,
   "id": "e0b72f84-3520-48c3-8f0d-24ac9374b011",
   "metadata": {},
   "outputs": [
    {
     "ename": "SyntaxError",
     "evalue": "invalid syntax (1331035967.py, line 1)",
     "output_type": "error",
     "traceback": [
      "\u001b[0;36m  Cell \u001b[0;32mIn[145], line 1\u001b[0;36m\u001b[0m\n\u001b[0;31m    This is my fist programming class\u001b[0m\n\u001b[0m               ^\u001b[0m\n\u001b[0;31mSyntaxError\u001b[0m\u001b[0;31m:\u001b[0m invalid syntax\n"
     ]
    }
   ],
   "source": [
    "This is my fist programming class"
   ]
  },
  {
   "cell_type": "code",
   "execution_count": 147,
   "id": "7a61f123-a858-4404-880c-6dc70d2987a8",
   "metadata": {},
   "outputs": [],
   "source": [
    "##This is my first programming class"
   ]
  },
  {
   "cell_type": "code",
   "execution_count": 1,
   "id": "e33e5b4b-70f3-468c-9ca4-88892f6288df",
   "metadata": {},
   "outputs": [
    {
     "data": {
      "text/plain": [
       "'This is my first programming class\\nI have learnt data typing\\ni have learnt str inbuilt function'"
      ]
     },
     "execution_count": 1,
     "metadata": {},
     "output_type": "execute_result"
    }
   ],
   "source": [
    "'''This is my first programming class\n",
    "I have learnt data typing\n",
    "i have learnt str inbuilt function'''"
   ]
  },
  {
   "cell_type": "code",
   "execution_count": 1,
   "id": "51671c97-e799-4eb5-8c71-5cb9e932e484",
   "metadata": {},
   "outputs": [],
   "source": [
    "# asdasf\n",
    "# sfasfadf\n",
    "# safvasasf\n",
    "# afasf\n",
    "# safasfa"
   ]
  },
  {
   "cell_type": "code",
   "execution_count": 2,
   "id": "19263d51-cda6-4151-9f3c-93306afabd10",
   "metadata": {},
   "outputs": [],
   "source": [
    "l= [1,'mohit',24314,5+7j,True]"
   ]
  },
  {
   "cell_type": "code",
   "execution_count": 3,
   "id": "5cd763e4-9d61-4c55-9f4e-786c2dd2ddb6",
   "metadata": {},
   "outputs": [
    {
     "data": {
      "text/plain": [
       "[1, 'mohit', 24314, (5+7j), True]"
      ]
     },
     "execution_count": 3,
     "metadata": {},
     "output_type": "execute_result"
    }
   ],
   "source": [
    "l"
   ]
  },
  {
   "cell_type": "code",
   "execution_count": 4,
   "id": "40d11a53-0e13-4c2a-93ce-c0514a28ead8",
   "metadata": {},
   "outputs": [
    {
     "data": {
      "text/plain": [
       "list"
      ]
     },
     "execution_count": 4,
     "metadata": {},
     "output_type": "execute_result"
    }
   ],
   "source": [
    "type(l)"
   ]
  },
  {
   "cell_type": "code",
   "execution_count": 5,
   "id": "4bd41b8b-a1fa-497a-9766-ab5c0177da5c",
   "metadata": {},
   "outputs": [
    {
     "data": {
      "text/plain": [
       "1"
      ]
     },
     "execution_count": 5,
     "metadata": {},
     "output_type": "execute_result"
    }
   ],
   "source": [
    "l[0]"
   ]
  },
  {
   "cell_type": "code",
   "execution_count": 6,
   "id": "f3bba72f-e567-4b96-8d2b-6756da5afb5d",
   "metadata": {},
   "outputs": [
    {
     "data": {
      "text/plain": [
       "True"
      ]
     },
     "execution_count": 6,
     "metadata": {},
     "output_type": "execute_result"
    }
   ],
   "source": [
    "l[4]"
   ]
  },
  {
   "cell_type": "code",
   "execution_count": 7,
   "id": "e841257f-2d83-4f1e-a5d4-a5f38ea3bff5",
   "metadata": {},
   "outputs": [
    {
     "data": {
      "text/plain": [
       "[1, 'mohit', 24314, (5+7j), True]"
      ]
     },
     "execution_count": 7,
     "metadata": {},
     "output_type": "execute_result"
    }
   ],
   "source": [
    "l"
   ]
  },
  {
   "cell_type": "code",
   "execution_count": 8,
   "id": "b86c854e-e6bb-4111-8516-1995d332968f",
   "metadata": {},
   "outputs": [
    {
     "data": {
      "text/plain": [
       "[1, 'mohit', 24314, (5+7j)]"
      ]
     },
     "execution_count": 8,
     "metadata": {},
     "output_type": "execute_result"
    }
   ],
   "source": [
    "l[0:4:1]"
   ]
  },
  {
   "cell_type": "code",
   "execution_count": 9,
   "id": "6ce4ef63-3c81-46b5-800b-8e9e698658c4",
   "metadata": {},
   "outputs": [
    {
     "data": {
      "text/plain": [
       "True"
      ]
     },
     "execution_count": 9,
     "metadata": {},
     "output_type": "execute_result"
    }
   ],
   "source": [
    "l[-1]"
   ]
  },
  {
   "cell_type": "code",
   "execution_count": 10,
   "id": "96d86758-f905-47e4-8bb3-756457d7f2d9",
   "metadata": {},
   "outputs": [
    {
     "data": {
      "text/plain": [
       "[True, (5+7j), 24314, 'mohit', 1]"
      ]
     },
     "execution_count": 10,
     "metadata": {},
     "output_type": "execute_result"
    }
   ],
   "source": [
    "l[::-1]"
   ]
  },
  {
   "cell_type": "code",
   "execution_count": 11,
   "id": "21bc9023-3cc1-4610-a377-3a771932943f",
   "metadata": {},
   "outputs": [
    {
     "data": {
      "text/plain": [
       "[1, 'mohit', 24314, (5+7j), True]"
      ]
     },
     "execution_count": 11,
     "metadata": {},
     "output_type": "execute_result"
    }
   ],
   "source": [
    "l"
   ]
  },
  {
   "cell_type": "code",
   "execution_count": 12,
   "id": "bdab9613-81f0-471c-990a-d79a72ed51da",
   "metadata": {},
   "outputs": [
    {
     "data": {
      "text/plain": [
       "[1, 24314, True]"
      ]
     },
     "execution_count": 12,
     "metadata": {},
     "output_type": "execute_result"
    }
   ],
   "source": [
    "l[0::2]"
   ]
  },
  {
   "cell_type": "code",
   "execution_count": 13,
   "id": "53eb9693-0c7b-4543-9ab0-fc7628d1267b",
   "metadata": {},
   "outputs": [],
   "source": [
    "s= 'pwskills'"
   ]
  },
  {
   "cell_type": "code",
   "execution_count": 14,
   "id": "0bd08d40-09c6-49ba-a03b-d433b1758531",
   "metadata": {},
   "outputs": [
    {
     "ename": "TypeError",
     "evalue": "can only concatenate list (not \"str\") to list",
     "output_type": "error",
     "traceback": [
      "\u001b[0;31m---------------------------------------------------------------------------\u001b[0m",
      "\u001b[0;31mTypeError\u001b[0m                                 Traceback (most recent call last)",
      "Cell \u001b[0;32mIn[14], line 1\u001b[0m\n\u001b[0;32m----> 1\u001b[0m \u001b[43ml\u001b[49m\u001b[38;5;241;43m+\u001b[39;49m\u001b[43ms\u001b[49m\n",
      "\u001b[0;31mTypeError\u001b[0m: can only concatenate list (not \"str\") to list"
     ]
    }
   ],
   "source": [
    "l+s"
   ]
  },
  {
   "cell_type": "code",
   "execution_count": 15,
   "id": "2b23423e-3e3a-4224-973a-f8bf171ba7e5",
   "metadata": {},
   "outputs": [
    {
     "data": {
      "text/plain": [
       "['p', 'w', 's', 'k', 'i', 'l', 'l', 's']"
      ]
     },
     "execution_count": 15,
     "metadata": {},
     "output_type": "execute_result"
    }
   ],
   "source": [
    "list(s)"
   ]
  },
  {
   "cell_type": "code",
   "execution_count": 17,
   "id": "477b4d82-2964-48b0-83aa-09e8b2d51b09",
   "metadata": {},
   "outputs": [
    {
     "data": {
      "text/plain": [
       "'pwskills'"
      ]
     },
     "execution_count": 17,
     "metadata": {},
     "output_type": "execute_result"
    }
   ],
   "source": [
    "s"
   ]
  },
  {
   "cell_type": "code",
   "execution_count": 20,
   "id": "44517222-5e65-4226-ba6e-fe875ccb0614",
   "metadata": {},
   "outputs": [
    {
     "data": {
      "text/plain": [
       "['p', 'w', 's', 'k', 'i', 'l', 'l', 's', 1, 'mohit', 24314, (5+7j), True]"
      ]
     },
     "execution_count": 20,
     "metadata": {},
     "output_type": "execute_result"
    }
   ],
   "source": [
    "list(s) + l "
   ]
  },
  {
   "cell_type": "code",
   "execution_count": 21,
   "id": "ca7eca85-b0c9-486f-b87d-98b475477040",
   "metadata": {},
   "outputs": [
    {
     "data": {
      "text/plain": [
       "[1, 'mohit', 24314, (5+7j), True]"
      ]
     },
     "execution_count": 21,
     "metadata": {},
     "output_type": "execute_result"
    }
   ],
   "source": [
    "l"
   ]
  },
  {
   "cell_type": "code",
   "execution_count": 22,
   "id": "7dcfb7f5-6414-4f65-bd90-4de2ab72ff76",
   "metadata": {},
   "outputs": [
    {
     "data": {
      "text/plain": [
       "'mohit'"
      ]
     },
     "execution_count": 22,
     "metadata": {},
     "output_type": "execute_result"
    }
   ],
   "source": [
    "l[1]"
   ]
  },
  {
   "cell_type": "code",
   "execution_count": 23,
   "id": "6f26e5e8-6cac-41b0-aeb2-1300b2d2ae59",
   "metadata": {},
   "outputs": [
    {
     "data": {
      "text/plain": [
       "str"
      ]
     },
     "execution_count": 23,
     "metadata": {},
     "output_type": "execute_result"
    }
   ],
   "source": [
    "type(l[1])"
   ]
  },
  {
   "cell_type": "code",
   "execution_count": 24,
   "id": "2eb025db-1ff3-45f6-bf95-426bcd646ef4",
   "metadata": {},
   "outputs": [
    {
     "data": {
      "text/plain": [
       "complex"
      ]
     },
     "execution_count": 24,
     "metadata": {},
     "output_type": "execute_result"
    }
   ],
   "source": [
    "type(l[3])"
   ]
  },
  {
   "cell_type": "code",
   "execution_count": 25,
   "id": "bdc66d6d-f6bd-4d68-8e13-81f59333c074",
   "metadata": {},
   "outputs": [
    {
     "data": {
      "text/plain": [
       "'mo'"
      ]
     },
     "execution_count": 25,
     "metadata": {},
     "output_type": "execute_result"
    }
   ],
   "source": [
    "l[1][0:2]"
   ]
  },
  {
   "cell_type": "code",
   "execution_count": 27,
   "id": "297ba1ae-8de2-45d2-94b7-391ab0edf3fa",
   "metadata": {},
   "outputs": [
    {
     "data": {
      "text/plain": [
       "'ru'"
      ]
     },
     "execution_count": 27,
     "metadata": {},
     "output_type": "execute_result"
    }
   ],
   "source": [
    "str(l[4])[1:3]"
   ]
  },
  {
   "cell_type": "code",
   "execution_count": 29,
   "id": "ad9ba87a-1f69-404c-a947-0ac775baba9d",
   "metadata": {},
   "outputs": [],
   "source": [
    "l=5"
   ]
  },
  {
   "cell_type": "code",
   "execution_count": 30,
   "id": "13e57749-f4a1-487f-9b2c-ba640246be7e",
   "metadata": {},
   "outputs": [],
   "source": [
    "l= [1,'mohit',24314,5+7j,True]"
   ]
  },
  {
   "cell_type": "code",
   "execution_count": 32,
   "id": "9d9f37bc-094a-4908-918e-337698e4f9e3",
   "metadata": {},
   "outputs": [],
   "source": [
    "l1= [3,4,5]"
   ]
  },
  {
   "cell_type": "code",
   "execution_count": 33,
   "id": "0f9d0893-2505-43a0-8298-f8dcee09f202",
   "metadata": {},
   "outputs": [
    {
     "data": {
      "text/plain": [
       "[1, 'mohit', 24314, (5+7j), True, 3, 4, 5]"
      ]
     },
     "execution_count": 33,
     "metadata": {},
     "output_type": "execute_result"
    }
   ],
   "source": [
    "l+l1"
   ]
  },
  {
   "cell_type": "code",
   "execution_count": 34,
   "id": "724f1d77-44ed-4d30-a090-5e5c203aa848",
   "metadata": {},
   "outputs": [
    {
     "data": {
      "text/plain": [
       "[3, 4, 5, 3, 4, 5, 3, 4, 5]"
      ]
     },
     "execution_count": 34,
     "metadata": {},
     "output_type": "execute_result"
    }
   ],
   "source": [
    "l1*3"
   ]
  },
  {
   "cell_type": "code",
   "execution_count": 35,
   "id": "f739a346-50fe-45e6-aead-ddace4ae1a40",
   "metadata": {},
   "outputs": [
    {
     "data": {
      "text/plain": [
       "[1, 'mohit', 24314, (5+7j), True]"
      ]
     },
     "execution_count": 35,
     "metadata": {},
     "output_type": "execute_result"
    }
   ],
   "source": [
    "l"
   ]
  },
  {
   "cell_type": "code",
   "execution_count": 37,
   "id": "8e22427d-eb86-4529-908e-6b7b29f630ea",
   "metadata": {},
   "outputs": [
    {
     "data": {
      "text/plain": [
       "5"
      ]
     },
     "execution_count": 37,
     "metadata": {},
     "output_type": "execute_result"
    }
   ],
   "source": [
    "len(l)"
   ]
  },
  {
   "cell_type": "code",
   "execution_count": 43,
   "id": "3e7d9cd7-2125-43fe-9e5e-e519b46ede03",
   "metadata": {},
   "outputs": [
    {
     "data": {
      "text/plain": [
       "[1, 'mohit', 24314, (5+7j), True]"
      ]
     },
     "execution_count": 43,
     "metadata": {},
     "output_type": "execute_result"
    }
   ],
   "source": [
    "l"
   ]
  },
  {
   "cell_type": "code",
   "execution_count": 44,
   "id": "41b8a0f1-13a7-4589-a60f-9b67e4a494b3",
   "metadata": {},
   "outputs": [
    {
     "ename": "NameError",
     "evalue": "name 'count' is not defined",
     "output_type": "error",
     "traceback": [
      "\u001b[0;31m---------------------------------------------------------------------------\u001b[0m",
      "\u001b[0;31mNameError\u001b[0m                                 Traceback (most recent call last)",
      "Cell \u001b[0;32mIn[44], line 1\u001b[0m\n\u001b[0;32m----> 1\u001b[0m \u001b[43mcount\u001b[49m(l[\u001b[38;5;241m1\u001b[39m])\n",
      "\u001b[0;31mNameError\u001b[0m: name 'count' is not defined"
     ]
    }
   ],
   "source": []
  },
  {
   "cell_type": "code",
   "execution_count": 45,
   "id": "0c5c27c0-ae19-4aa0-a83f-989ff5abe502",
   "metadata": {},
   "outputs": [
    {
     "data": {
      "text/plain": [
       "2"
      ]
     },
     "execution_count": 45,
     "metadata": {},
     "output_type": "execute_result"
    }
   ],
   "source": [
    "l.count(1)"
   ]
  },
  {
   "cell_type": "code",
   "execution_count": 46,
   "id": "bf0363a0-380b-46c9-9d9a-f615242508bf",
   "metadata": {},
   "outputs": [
    {
     "data": {
      "text/plain": [
       "1"
      ]
     },
     "execution_count": 46,
     "metadata": {},
     "output_type": "execute_result"
    }
   ],
   "source": [
    "l.count('mohit')"
   ]
  },
  {
   "cell_type": "code",
   "execution_count": 47,
   "id": "1194eba1-2451-44f3-91a6-da6bccb1a710",
   "metadata": {},
   "outputs": [],
   "source": [
    "l.append(5)"
   ]
  },
  {
   "cell_type": "code",
   "execution_count": 48,
   "id": "49d0d164-0256-47dc-ae2e-c6ddd6fb2c0e",
   "metadata": {},
   "outputs": [
    {
     "data": {
      "text/plain": [
       "[1, 'mohit', 24314, (5+7j), True, 5]"
      ]
     },
     "execution_count": 48,
     "metadata": {},
     "output_type": "execute_result"
    }
   ],
   "source": [
    "l"
   ]
  },
  {
   "cell_type": "code",
   "execution_count": 49,
   "id": "cfab0ffb-b208-4402-ba4d-05ab51ac3e4c",
   "metadata": {},
   "outputs": [],
   "source": [
    "l.append(False)"
   ]
  },
  {
   "cell_type": "code",
   "execution_count": 50,
   "id": "55551808-39c6-49db-921e-7ef79c134047",
   "metadata": {},
   "outputs": [
    {
     "data": {
      "text/plain": [
       "[1, 'mohit', 24314, (5+7j), True, 5, False]"
      ]
     },
     "execution_count": 50,
     "metadata": {},
     "output_type": "execute_result"
    }
   ],
   "source": [
    "l"
   ]
  },
  {
   "cell_type": "code",
   "execution_count": 51,
   "id": "d3f99795-6dc4-4fe3-9c3b-73f4a63a28fc",
   "metadata": {},
   "outputs": [
    {
     "data": {
      "text/plain": [
       "'pwskills'"
      ]
     },
     "execution_count": 51,
     "metadata": {},
     "output_type": "execute_result"
    }
   ],
   "source": [
    "s"
   ]
  },
  {
   "cell_type": "code",
   "execution_count": 52,
   "id": "7fc7bd36-4ca7-4fa3-8c43-abf77e5aa4ac",
   "metadata": {},
   "outputs": [],
   "source": [
    "l.append(s)"
   ]
  },
  {
   "cell_type": "code",
   "execution_count": 53,
   "id": "1f181ce3-fd72-41ce-8670-844b07d3d28f",
   "metadata": {},
   "outputs": [
    {
     "data": {
      "text/plain": [
       "[1, 'mohit', 24314, (5+7j), True, 5, False, 'pwskills']"
      ]
     },
     "execution_count": 53,
     "metadata": {},
     "output_type": "execute_result"
    }
   ],
   "source": [
    "l"
   ]
  },
  {
   "cell_type": "code",
   "execution_count": 54,
   "id": "1d73aca2-879f-49aa-861a-adc14382f6dd",
   "metadata": {},
   "outputs": [],
   "source": [
    "l.append(l1)"
   ]
  },
  {
   "cell_type": "code",
   "execution_count": 55,
   "id": "2f558e96-8384-4c82-bf6d-be7b47735cb6",
   "metadata": {},
   "outputs": [
    {
     "data": {
      "text/plain": [
       "[1, 'mohit', 24314, (5+7j), True, 5, False, 'pwskills', [3, 4, 5]]"
      ]
     },
     "execution_count": 55,
     "metadata": {},
     "output_type": "execute_result"
    }
   ],
   "source": [
    "l"
   ]
  },
  {
   "cell_type": "code",
   "execution_count": 56,
   "id": "c73807b9-3334-49f2-a4e8-0441d0a9f3ca",
   "metadata": {},
   "outputs": [
    {
     "data": {
      "text/plain": [
       "[3, 4, 5]"
      ]
     },
     "execution_count": 56,
     "metadata": {},
     "output_type": "execute_result"
    }
   ],
   "source": [
    "l[-1]"
   ]
  },
  {
   "cell_type": "code",
   "execution_count": 57,
   "id": "c7a77783-c907-40a9-9b62-593d80d72ed5",
   "metadata": {},
   "outputs": [
    {
     "data": {
      "text/plain": [
       "4"
      ]
     },
     "execution_count": 57,
     "metadata": {},
     "output_type": "execute_result"
    }
   ],
   "source": [
    "l[-1][1]"
   ]
  },
  {
   "cell_type": "code",
   "execution_count": 59,
   "id": "f5afc933-428d-49fd-9cf8-c089cb375d7e",
   "metadata": {},
   "outputs": [
    {
     "ename": "TypeError",
     "evalue": "'int' object is not iterable",
     "output_type": "error",
     "traceback": [
      "\u001b[0;31m---------------------------------------------------------------------------\u001b[0m",
      "\u001b[0;31mTypeError\u001b[0m                                 Traceback (most recent call last)",
      "Cell \u001b[0;32mIn[59], line 1\u001b[0m\n\u001b[0;32m----> 1\u001b[0m \u001b[43ml\u001b[49m\u001b[38;5;241;43m.\u001b[39;49m\u001b[43mextend\u001b[49m\u001b[43m(\u001b[49m\u001b[38;5;241;43m4\u001b[39;49m\u001b[43m)\u001b[49m\n",
      "\u001b[0;31mTypeError\u001b[0m: 'int' object is not iterable"
     ]
    }
   ],
   "source": [
    "l.extend(4)"
   ]
  },
  {
   "cell_type": "code",
   "execution_count": 60,
   "id": "e03aa795-2e1d-4adc-b3cf-5d7b7c0003f9",
   "metadata": {},
   "outputs": [],
   "source": [
    "l.extend('mohi')"
   ]
  },
  {
   "cell_type": "code",
   "execution_count": 61,
   "id": "9a9d638f-cffa-45dd-a3c9-67481f26784f",
   "metadata": {},
   "outputs": [
    {
     "data": {
      "text/plain": [
       "[1,\n",
       " 'mohit',\n",
       " 24314,\n",
       " (5+7j),\n",
       " True,\n",
       " 5,\n",
       " False,\n",
       " 'pwskills',\n",
       " [3, 4, 5],\n",
       " 'm',\n",
       " 'o',\n",
       " 'h',\n",
       " 'i']"
      ]
     },
     "execution_count": 61,
     "metadata": {},
     "output_type": "execute_result"
    }
   ],
   "source": [
    "l"
   ]
  },
  {
   "cell_type": "code",
   "execution_count": 63,
   "id": "c6ff5ff5-9e7d-4539-ab47-d8ec3c5a0bad",
   "metadata": {},
   "outputs": [],
   "source": [
    "l.extend([2,5,6])"
   ]
  },
  {
   "cell_type": "code",
   "execution_count": 64,
   "id": "089e8eb6-abc7-4ddc-abb5-a1e7faefba01",
   "metadata": {},
   "outputs": [
    {
     "data": {
      "text/plain": [
       "[1,\n",
       " 'mohit',\n",
       " 24314,\n",
       " (5+7j),\n",
       " True,\n",
       " 5,\n",
       " False,\n",
       " 'pwskills',\n",
       " [3, 4, 5],\n",
       " 'm',\n",
       " 'o',\n",
       " 'h',\n",
       " 'i',\n",
       " 2,\n",
       " 5,\n",
       " 6]"
      ]
     },
     "execution_count": 64,
     "metadata": {},
     "output_type": "execute_result"
    }
   ],
   "source": [
    "l"
   ]
  },
  {
   "cell_type": "code",
   "execution_count": 65,
   "id": "32ec4f00-1d48-49a7-b78e-8963f6b571f7",
   "metadata": {},
   "outputs": [],
   "source": [
    "l.append('kumar')"
   ]
  },
  {
   "cell_type": "code",
   "execution_count": 66,
   "id": "830e6559-65ad-408d-a6e4-8de08f0d602c",
   "metadata": {},
   "outputs": [
    {
     "data": {
      "text/plain": [
       "[1,\n",
       " 'mohit',\n",
       " 24314,\n",
       " (5+7j),\n",
       " True,\n",
       " 5,\n",
       " False,\n",
       " 'pwskills',\n",
       " [3, 4, 5],\n",
       " 'm',\n",
       " 'o',\n",
       " 'h',\n",
       " 'i',\n",
       " 2,\n",
       " 5,\n",
       " 6,\n",
       " 'kumar']"
      ]
     },
     "execution_count": 66,
     "metadata": {},
     "output_type": "execute_result"
    }
   ],
   "source": [
    "l"
   ]
  },
  {
   "cell_type": "code",
   "execution_count": 67,
   "id": "0d1bcdb5-cde6-4966-8ab1-9bbf5dddd1c9",
   "metadata": {},
   "outputs": [
    {
     "data": {
      "text/plain": [
       "[3, 4, 5]"
      ]
     },
     "execution_count": 67,
     "metadata": {},
     "output_type": "execute_result"
    }
   ],
   "source": [
    "l1"
   ]
  },
  {
   "cell_type": "code",
   "execution_count": 68,
   "id": "75d0c596-d783-46eb-b12b-db5128b086e3",
   "metadata": {},
   "outputs": [],
   "source": [
    "l1.insert(1,'mohit')"
   ]
  },
  {
   "cell_type": "code",
   "execution_count": 69,
   "id": "2cb340fb-4d53-419e-bdfe-60fddc0f9868",
   "metadata": {},
   "outputs": [
    {
     "data": {
      "text/plain": [
       "[3, 'mohit', 4, 5]"
      ]
     },
     "execution_count": 69,
     "metadata": {},
     "output_type": "execute_result"
    }
   ],
   "source": [
    "l1"
   ]
  },
  {
   "cell_type": "code",
   "execution_count": 72,
   "id": "9596a015-eb08-4868-abf1-d8fd1c80070f",
   "metadata": {},
   "outputs": [],
   "source": [
    "l1.insert(2,[1,5,9])"
   ]
  },
  {
   "cell_type": "code",
   "execution_count": 73,
   "id": "b8add0fd-53f1-4511-9433-c0dd10e2d7f1",
   "metadata": {},
   "outputs": [
    {
     "data": {
      "text/plain": [
       "[3, 'mohit', [1, 5, 9], [1, 5, 9], 4, 5]"
      ]
     },
     "execution_count": 73,
     "metadata": {},
     "output_type": "execute_result"
    }
   ],
   "source": [
    "l1"
   ]
  },
  {
   "cell_type": "code",
   "execution_count": 74,
   "id": "6c101228-cfc8-426b-857e-60d43950c072",
   "metadata": {},
   "outputs": [
    {
     "data": {
      "text/plain": [
       "[3, 'mohit', [1, 5, 9], [1, 5, 9], 4, 5]"
      ]
     },
     "execution_count": 74,
     "metadata": {},
     "output_type": "execute_result"
    }
   ],
   "source": [
    "l1"
   ]
  },
  {
   "cell_type": "code",
   "execution_count": 75,
   "id": "2f6f057d-fbd7-41f5-9ac5-71915c4b71d6",
   "metadata": {},
   "outputs": [],
   "source": [
    "l1.insert(-1,20)"
   ]
  },
  {
   "cell_type": "code",
   "execution_count": 76,
   "id": "e8cc3c85-bc4f-4ff1-a0ec-11d014789d5f",
   "metadata": {},
   "outputs": [
    {
     "data": {
      "text/plain": [
       "[3, 'mohit', [1, 5, 9], [1, 5, 9], 4, 20, 5]"
      ]
     },
     "execution_count": 76,
     "metadata": {},
     "output_type": "execute_result"
    }
   ],
   "source": [
    "l1"
   ]
  },
  {
   "cell_type": "code",
   "execution_count": 77,
   "id": "7c81bce2-88c3-48a7-a8ea-07a1893f6232",
   "metadata": {},
   "outputs": [
    {
     "data": {
      "text/plain": [
       "5"
      ]
     },
     "execution_count": 77,
     "metadata": {},
     "output_type": "execute_result"
    }
   ],
   "source": [
    "l1.pop()"
   ]
  },
  {
   "cell_type": "code",
   "execution_count": 78,
   "id": "019928c4-e4f4-47b2-a25d-25902a4402ec",
   "metadata": {},
   "outputs": [
    {
     "data": {
      "text/plain": [
       "[3, 'mohit', [1, 5, 9], [1, 5, 9], 4, 20]"
      ]
     },
     "execution_count": 78,
     "metadata": {},
     "output_type": "execute_result"
    }
   ],
   "source": [
    "l1"
   ]
  },
  {
   "cell_type": "markdown",
   "id": "6201398b-29dd-4619-b18e-d63f20ca5e3c",
   "metadata": {
    "jp-MarkdownHeadingCollapsed": true,
    "tags": []
   },
   "source": []
  },
  {
   "cell_type": "code",
   "execution_count": 80,
   "id": "cb203683-1e12-4e76-a6a6-d7629fc338ec",
   "metadata": {},
   "outputs": [
    {
     "data": {
      "text/plain": [
       "4"
      ]
     },
     "execution_count": 80,
     "metadata": {},
     "output_type": "execute_result"
    }
   ],
   "source": [
    "l1.pop(3)"
   ]
  },
  {
   "cell_type": "code",
   "execution_count": 82,
   "id": "404659a5-c5c4-4fc0-a540-66f6af43c741",
   "metadata": {},
   "outputs": [
    {
     "data": {
      "text/plain": [
       "[3, 'mohit', [1, 5, 9], 20]"
      ]
     },
     "execution_count": 82,
     "metadata": {},
     "output_type": "execute_result"
    }
   ],
   "source": [
    "l1"
   ]
  },
  {
   "cell_type": "code",
   "execution_count": 83,
   "id": "6a8ed6ad-2cc2-42f1-bf1f-aae35c26da41",
   "metadata": {},
   "outputs": [],
   "source": [
    "l1.extend([1,2,3])"
   ]
  },
  {
   "cell_type": "code",
   "execution_count": 84,
   "id": "a2493247-cabe-4985-8534-ee694f600a64",
   "metadata": {},
   "outputs": [
    {
     "data": {
      "text/plain": [
       "[3, 'mohit', [1, 5, 9], 20, 1, 2, 3]"
      ]
     },
     "execution_count": 84,
     "metadata": {},
     "output_type": "execute_result"
    }
   ],
   "source": [
    "l1"
   ]
  },
  {
   "cell_type": "code",
   "execution_count": 85,
   "id": "82b060d0-9578-47b4-b40b-e31c7db1c691",
   "metadata": {},
   "outputs": [],
   "source": [
    "l1.append([2,5,7])"
   ]
  },
  {
   "cell_type": "code",
   "execution_count": 86,
   "id": "06fa9d5f-c0be-46f7-b3ca-6f488834e919",
   "metadata": {},
   "outputs": [
    {
     "data": {
      "text/plain": [
       "[3, 'mohit', [1, 5, 9], 20, 1, 2, 3, [2, 5, 7]]"
      ]
     },
     "execution_count": 86,
     "metadata": {},
     "output_type": "execute_result"
    }
   ],
   "source": [
    "l1"
   ]
  },
  {
   "cell_type": "code",
   "execution_count": 87,
   "id": "db83f89d-8ed7-4491-b52c-2324ab5ab910",
   "metadata": {},
   "outputs": [
    {
     "data": {
      "text/plain": [
       "1"
      ]
     },
     "execution_count": 87,
     "metadata": {},
     "output_type": "execute_result"
    }
   ],
   "source": [
    "l1.pop(4)"
   ]
  },
  {
   "cell_type": "code",
   "execution_count": 88,
   "id": "1de09ebd-71ee-43f8-ae80-603ba6a4845b",
   "metadata": {},
   "outputs": [
    {
     "data": {
      "text/plain": [
       "[3, 'mohit', [1, 5, 9], 20, 2, 3, [2, 5, 7]]"
      ]
     },
     "execution_count": 88,
     "metadata": {},
     "output_type": "execute_result"
    }
   ],
   "source": [
    "l1"
   ]
  },
  {
   "cell_type": "code",
   "execution_count": 89,
   "id": "5f5e0951-3350-49b9-85a6-120c80c1bffb",
   "metadata": {},
   "outputs": [],
   "source": [
    "l1.remove(20)"
   ]
  },
  {
   "cell_type": "code",
   "execution_count": 90,
   "id": "e8c941dd-db49-498b-bdd3-d7fe96e9b32d",
   "metadata": {},
   "outputs": [
    {
     "data": {
      "text/plain": [
       "[3, 'mohit', [1, 5, 9], 2, 3, [2, 5, 7]]"
      ]
     },
     "execution_count": 90,
     "metadata": {},
     "output_type": "execute_result"
    }
   ],
   "source": [
    "l1"
   ]
  },
  {
   "cell_type": "code",
   "execution_count": 2,
   "id": "7fe01491-7788-4340-85ce-4e6055c30c72",
   "metadata": {},
   "outputs": [
    {
     "ename": "NameError",
     "evalue": "name 'l1' is not defined",
     "output_type": "error",
     "traceback": [
      "\u001b[0;31m---------------------------------------------------------------------------\u001b[0m",
      "\u001b[0;31mNameError\u001b[0m                                 Traceback (most recent call last)",
      "Cell \u001b[0;32mIn[2], line 1\u001b[0m\n\u001b[0;32m----> 1\u001b[0m \u001b[43ml1\u001b[49m\n",
      "\u001b[0;31mNameError\u001b[0m: name 'l1' is not defined"
     ]
    }
   ],
   "source": [
    "l1"
   ]
  },
  {
   "cell_type": "code",
   "execution_count": 3,
   "id": "c763db8c-ecd6-4701-ba98-94a637c52ce0",
   "metadata": {},
   "outputs": [],
   "source": [
    "l1= [3, 'mohit', [1, 5, 9], 2, 3, [2, 5, 7]]"
   ]
  },
  {
   "cell_type": "code",
   "execution_count": 4,
   "id": "764d6b4c-d08b-44a4-b8e4-11c311769aa2",
   "metadata": {},
   "outputs": [],
   "source": [
    "l1.reverse()"
   ]
  },
  {
   "cell_type": "code",
   "execution_count": 1,
   "id": "e9d76cbb-afbf-4929-92b6-46d3ad584ffb",
   "metadata": {},
   "outputs": [],
   "source": [
    "l1= [3, 'mohit', [1, 5, 9], 2, 3, [2, 5, 7]]"
   ]
  },
  {
   "cell_type": "code",
   "execution_count": 3,
   "id": "b2b62fd5-4b05-4903-b580-c7f84c96f0ed",
   "metadata": {},
   "outputs": [],
   "source": [
    "l1[2].remove(5)"
   ]
  },
  {
   "cell_type": "code",
   "execution_count": 4,
   "id": "7811a1aa-d3bb-4177-ba43-98a6e0c2635c",
   "metadata": {},
   "outputs": [
    {
     "data": {
      "text/plain": [
       "[3, 'mohit', [1, 9], 2, 3, [2, 5, 7]]"
      ]
     },
     "execution_count": 4,
     "metadata": {},
     "output_type": "execute_result"
    }
   ],
   "source": [
    "l1"
   ]
  },
  {
   "cell_type": "code",
   "execution_count": 5,
   "id": "e56825fa-a8fc-4245-9337-fe1102f3bce8",
   "metadata": {},
   "outputs": [],
   "source": [
    "l2= [1,2,3,4,5,54,76,89,22,]"
   ]
  },
  {
   "cell_type": "code",
   "execution_count": 6,
   "id": "ab98a69a-4c7b-42ad-94ec-8c2d05adcc11",
   "metadata": {},
   "outputs": [],
   "source": [
    "l2.sort()"
   ]
  },
  {
   "cell_type": "code",
   "execution_count": 7,
   "id": "6605261d-c800-442d-91a3-fc352b9384bf",
   "metadata": {},
   "outputs": [
    {
     "data": {
      "text/plain": [
       "[1, 2, 3, 4, 5, 22, 54, 76, 89]"
      ]
     },
     "execution_count": 7,
     "metadata": {},
     "output_type": "execute_result"
    }
   ],
   "source": [
    "l2"
   ]
  },
  {
   "cell_type": "code",
   "execution_count": 8,
   "id": "ba00e3b0-f150-4bfe-9229-e97c1ee2e13f",
   "metadata": {},
   "outputs": [],
   "source": [
    "l3= [34, 'mohit',45,12,'kumar']"
   ]
  },
  {
   "cell_type": "code",
   "execution_count": 9,
   "id": "edf28514-afeb-4795-b56b-f4ebe660245a",
   "metadata": {},
   "outputs": [],
   "source": [
    "l4=['mohit','kumar','data science','pwskills']"
   ]
  },
  {
   "cell_type": "code",
   "execution_count": 10,
   "id": "c12620f7-186f-439e-92f4-ab25a9cfb0a6",
   "metadata": {},
   "outputs": [],
   "source": [
    "l4.sort()"
   ]
  },
  {
   "cell_type": "code",
   "execution_count": 11,
   "id": "23d2d33e-9e2d-4be3-9a19-a1402b014d65",
   "metadata": {},
   "outputs": [
    {
     "data": {
      "text/plain": [
       "['data science', 'kumar', 'mohit', 'pwskills']"
      ]
     },
     "execution_count": 11,
     "metadata": {},
     "output_type": "execute_result"
    }
   ],
   "source": [
    "l4"
   ]
  },
  {
   "cell_type": "code",
   "execution_count": 12,
   "id": "86b59c85-f5c8-405b-9aeb-52abf8a2799f",
   "metadata": {},
   "outputs": [],
   "source": [
    "l4.sort(reverse=True)"
   ]
  },
  {
   "cell_type": "code",
   "execution_count": 13,
   "id": "68ffc557-987f-4f5f-ada1-8bd5f9b1f54d",
   "metadata": {},
   "outputs": [
    {
     "data": {
      "text/plain": [
       "['pwskills', 'mohit', 'kumar', 'data science']"
      ]
     },
     "execution_count": 13,
     "metadata": {},
     "output_type": "execute_result"
    }
   ],
   "source": [
    "l4"
   ]
  },
  {
   "cell_type": "code",
   "execution_count": 1,
   "id": "d2a65dc7-b115-401a-993f-b4a362aa36ac",
   "metadata": {},
   "outputs": [],
   "source": [
    "l1=[3, 'mohit', [1, 5, 9], [1, 5, 9], 4, 5]\n"
   ]
  },
  {
   "cell_type": "code",
   "execution_count": 2,
   "id": "3a31b72a-93ac-4588-b066-4b2a1f2acca1",
   "metadata": {},
   "outputs": [
    {
     "data": {
      "text/plain": [
       "[1, 5, 9]"
      ]
     },
     "execution_count": 2,
     "metadata": {},
     "output_type": "execute_result"
    }
   ],
   "source": [
    "l1[2]"
   ]
  },
  {
   "cell_type": "code",
   "execution_count": 4,
   "id": "d4f2f308-bd1f-4b3b-bc54-cc94298cb11f",
   "metadata": {},
   "outputs": [],
   "source": [
    "l1[2].remove(5)"
   ]
  },
  {
   "cell_type": "code",
   "execution_count": 5,
   "id": "d84314de-e74f-457a-a829-7bec1b04e54a",
   "metadata": {},
   "outputs": [
    {
     "data": {
      "text/plain": [
       "[3, 'mohit', [1, 9], [1, 5, 9], 4, 5]"
      ]
     },
     "execution_count": 5,
     "metadata": {},
     "output_type": "execute_result"
    }
   ],
   "source": [
    "l1"
   ]
  },
  {
   "cell_type": "code",
   "execution_count": 6,
   "id": "5a03f7b5-0e27-46f2-8e00-8281f16a0193",
   "metadata": {},
   "outputs": [
    {
     "data": {
      "text/plain": [
       "[5, 4, [1, 5, 9], [1, 9], 'mohit', 3]"
      ]
     },
     "execution_count": 6,
     "metadata": {},
     "output_type": "execute_result"
    }
   ],
   "source": [
    "l1[::-1]"
   ]
  },
  {
   "cell_type": "code",
   "execution_count": 7,
   "id": "2924e8f1-ac98-49e3-806b-7e3c988307dc",
   "metadata": {},
   "outputs": [
    {
     "data": {
      "text/plain": [
       "[3, 'mohit', [1, 9], [1, 5, 9], 4, 5]"
      ]
     },
     "execution_count": 7,
     "metadata": {},
     "output_type": "execute_result"
    }
   ],
   "source": [
    "l1"
   ]
  },
  {
   "cell_type": "code",
   "execution_count": 8,
   "id": "0183bb98-e779-43fa-9365-1eabb757e20e",
   "metadata": {},
   "outputs": [],
   "source": [
    "l1.reverse()"
   ]
  },
  {
   "cell_type": "code",
   "execution_count": 9,
   "id": "82cb91d9-f2ef-4809-9f8e-2a528039c960",
   "metadata": {},
   "outputs": [
    {
     "data": {
      "text/plain": [
       "[5, 4, [1, 5, 9], [1, 9], 'mohit', 3]"
      ]
     },
     "execution_count": 9,
     "metadata": {},
     "output_type": "execute_result"
    }
   ],
   "source": [
    "l1"
   ]
  },
  {
   "cell_type": "code",
   "execution_count": 10,
   "id": "ee9a76fd-2776-4cf0-b5f4-a8acf81b2de9",
   "metadata": {},
   "outputs": [],
   "source": [
    "l1.reverse()"
   ]
  },
  {
   "cell_type": "code",
   "execution_count": 11,
   "id": "db06f4fa-c96d-48c9-8657-064f60c8dc9a",
   "metadata": {},
   "outputs": [
    {
     "data": {
      "text/plain": [
       "[3, 'mohit', [1, 9], [1, 5, 9], 4, 5]"
      ]
     },
     "execution_count": 11,
     "metadata": {},
     "output_type": "execute_result"
    }
   ],
   "source": [
    "l1"
   ]
  },
  {
   "cell_type": "code",
   "execution_count": 14,
   "id": "a65a7282-02de-4870-bb49-f49bcbce3788",
   "metadata": {},
   "outputs": [],
   "source": [
    "l1= l1[::-1]"
   ]
  },
  {
   "cell_type": "code",
   "execution_count": 15,
   "id": "b92a4bff-4e7c-47cc-90d0-d4331cc306f1",
   "metadata": {},
   "outputs": [
    {
     "data": {
      "text/plain": [
       "[5, 4, [1, 5, 9], [1, 9], 'mohit', 3]"
      ]
     },
     "execution_count": 15,
     "metadata": {},
     "output_type": "execute_result"
    }
   ],
   "source": [
    "l1"
   ]
  },
  {
   "cell_type": "code",
   "execution_count": 16,
   "id": "4d218901-a901-40bc-96fd-82b4b356ceda",
   "metadata": {},
   "outputs": [],
   "source": [
    "l1.reverse()"
   ]
  },
  {
   "cell_type": "code",
   "execution_count": 17,
   "id": "a4cc241a-2988-412a-bc0f-a270941ba8bc",
   "metadata": {},
   "outputs": [
    {
     "data": {
      "text/plain": [
       "[3, 'mohit', [1, 9], [1, 5, 9], 4, 5]"
      ]
     },
     "execution_count": 17,
     "metadata": {},
     "output_type": "execute_result"
    }
   ],
   "source": [
    "l1"
   ]
  },
  {
   "cell_type": "code",
   "execution_count": 18,
   "id": "66305ba6-d927-4bf1-a307-dd2f7fed4a88",
   "metadata": {},
   "outputs": [
    {
     "ename": "TypeError",
     "evalue": "'<' not supported between instances of 'str' and 'int'",
     "output_type": "error",
     "traceback": [
      "\u001b[0;31m---------------------------------------------------------------------------\u001b[0m",
      "\u001b[0;31mTypeError\u001b[0m                                 Traceback (most recent call last)",
      "Cell \u001b[0;32mIn[18], line 1\u001b[0m\n\u001b[0;32m----> 1\u001b[0m \u001b[43ml1\u001b[49m\u001b[38;5;241;43m.\u001b[39;49m\u001b[43msort\u001b[49m\u001b[43m(\u001b[49m\u001b[43m)\u001b[49m\n",
      "\u001b[0;31mTypeError\u001b[0m: '<' not supported between instances of 'str' and 'int'"
     ]
    }
   ],
   "source": [
    "l1.sort()"
   ]
  },
  {
   "cell_type": "code",
   "execution_count": 19,
   "id": "d79ebb01-c2dd-47c3-a58d-158c41577334",
   "metadata": {},
   "outputs": [],
   "source": [
    "l2= [1,2,3,4,5,54,76,89,22,]"
   ]
  },
  {
   "cell_type": "code",
   "execution_count": 20,
   "id": "fbc62374-aa6e-40df-af92-99f3d2ec517a",
   "metadata": {},
   "outputs": [],
   "source": [
    "l3= [3,54,5,346,66,34,354,76,788]"
   ]
  },
  {
   "cell_type": "code",
   "execution_count": 22,
   "id": "fe1316fe-9052-4142-9dd1-1be597fd1b28",
   "metadata": {},
   "outputs": [],
   "source": [
    "l3.sort()"
   ]
  },
  {
   "cell_type": "markdown",
   "id": "84cc14d6-2445-45a0-aa97-f297f45977fb",
   "metadata": {},
   "source": [
    "### "
   ]
  },
  {
   "cell_type": "code",
   "execution_count": 23,
   "id": "c2a0bdec-a6a0-492b-99b5-fcf784e0f358",
   "metadata": {},
   "outputs": [
    {
     "data": {
      "text/plain": [
       "[3, 5, 34, 54, 66, 76, 346, 354, 788]"
      ]
     },
     "execution_count": 23,
     "metadata": {},
     "output_type": "execute_result"
    }
   ],
   "source": [
    "l3"
   ]
  },
  {
   "cell_type": "code",
   "execution_count": 24,
   "id": "f28da8c3-6ef8-4cdd-8972-40eee051889a",
   "metadata": {},
   "outputs": [
    {
     "data": {
      "text/plain": [
       "1"
      ]
     },
     "execution_count": 24,
     "metadata": {},
     "output_type": "execute_result"
    }
   ],
   "source": [
    "l3.count(3)"
   ]
  },
  {
   "cell_type": "code",
   "execution_count": 28,
   "id": "8be23ee8-67d3-44e9-ab6c-89280aa1866c",
   "metadata": {},
   "outputs": [
    {
     "data": {
      "text/plain": [
       "9"
      ]
     },
     "execution_count": 28,
     "metadata": {},
     "output_type": "execute_result"
    }
   ],
   "source": [
    "len(l3)"
   ]
  },
  {
   "cell_type": "code",
   "execution_count": 29,
   "id": "468b293f-05ec-41bb-8247-161d347b3ab6",
   "metadata": {},
   "outputs": [],
   "source": [
    "l3[2]=4"
   ]
  },
  {
   "cell_type": "code",
   "execution_count": 30,
   "id": "42732236-f769-4f2f-ac2c-4b1111c953e9",
   "metadata": {},
   "outputs": [
    {
     "data": {
      "text/plain": [
       "[3, 5, 4, 54, 66, 76, 346, 354, 788]"
      ]
     },
     "execution_count": 30,
     "metadata": {},
     "output_type": "execute_result"
    }
   ],
   "source": [
    "l3"
   ]
  },
  {
   "cell_type": "code",
   "execution_count": 31,
   "id": "0ec7b2a1-90b2-4583-a2b2-5e6b4ead3c07",
   "metadata": {},
   "outputs": [],
   "source": [
    "m= 'mohit'"
   ]
  },
  {
   "cell_type": "code",
   "execution_count": 32,
   "id": "a9aaa20a-b892-44bf-b1a4-40eed1b7177a",
   "metadata": {},
   "outputs": [
    {
     "data": {
      "text/plain": [
       "'rohit'"
      ]
     },
     "execution_count": 32,
     "metadata": {},
     "output_type": "execute_result"
    }
   ],
   "source": [
    "m.replace('m','r')"
   ]
  },
  {
   "cell_type": "code",
   "execution_count": 33,
   "id": "d5f283d2-7760-4840-a2ca-289a35f9ea4d",
   "metadata": {},
   "outputs": [
    {
     "data": {
      "text/plain": [
       "'mohit'"
      ]
     },
     "execution_count": 33,
     "metadata": {},
     "output_type": "execute_result"
    }
   ],
   "source": [
    "m"
   ]
  },
  {
   "cell_type": "code",
   "execution_count": 35,
   "id": "0120d5eb-08eb-4dd9-bb3b-22f3eae97662",
   "metadata": {},
   "outputs": [],
   "source": [
    "t=(2,3,4,5,'mohit',False,5+7j,[3,4,5])"
   ]
  },
  {
   "cell_type": "code",
   "execution_count": 36,
   "id": "1995d328-6c30-46df-8bf9-6e170732e87d",
   "metadata": {},
   "outputs": [
    {
     "data": {
      "text/plain": [
       "(2, 3, 4, 5, 'mohit', False, (5+7j), [3, 4, 5])"
      ]
     },
     "execution_count": 36,
     "metadata": {},
     "output_type": "execute_result"
    }
   ],
   "source": [
    "t"
   ]
  },
  {
   "cell_type": "code",
   "execution_count": 37,
   "id": "09e7d6da-663f-45aa-97d9-11cd68a35928",
   "metadata": {},
   "outputs": [
    {
     "data": {
      "text/plain": [
       "tuple"
      ]
     },
     "execution_count": 37,
     "metadata": {},
     "output_type": "execute_result"
    }
   ],
   "source": [
    "type(t)"
   ]
  },
  {
   "cell_type": "code",
   "execution_count": 38,
   "id": "29e10d3f-c704-44c8-8c42-14639ad6bc59",
   "metadata": {},
   "outputs": [
    {
     "data": {
      "text/plain": [
       "8"
      ]
     },
     "execution_count": 38,
     "metadata": {},
     "output_type": "execute_result"
    }
   ],
   "source": [
    "len(t)"
   ]
  },
  {
   "cell_type": "code",
   "execution_count": 39,
   "id": "bb453e5a-0208-4a81-8d28-e2da4ce298e8",
   "metadata": {},
   "outputs": [
    {
     "data": {
      "text/plain": [
       "5"
      ]
     },
     "execution_count": 39,
     "metadata": {},
     "output_type": "execute_result"
    }
   ],
   "source": [
    "t[3]"
   ]
  },
  {
   "cell_type": "code",
   "execution_count": 40,
   "id": "bffb4eb5-28d5-4230-8181-5249cabac0ec",
   "metadata": {},
   "outputs": [
    {
     "data": {
      "text/plain": [
       "(5+7j)"
      ]
     },
     "execution_count": 40,
     "metadata": {},
     "output_type": "execute_result"
    }
   ],
   "source": [
    "t[-2]"
   ]
  },
  {
   "cell_type": "code",
   "execution_count": 41,
   "id": "b3771da0-a769-489f-864b-ab2f0dd6ae5c",
   "metadata": {},
   "outputs": [
    {
     "data": {
      "text/plain": [
       "([3, 4, 5], (5+7j), False, 'mohit', 5, 4, 3, 2)"
      ]
     },
     "execution_count": 41,
     "metadata": {},
     "output_type": "execute_result"
    }
   ],
   "source": [
    "t[::-1]"
   ]
  },
  {
   "cell_type": "code",
   "execution_count": 42,
   "id": "28a64c9d-e1af-4e1c-ad15-4aee66bde0a7",
   "metadata": {},
   "outputs": [
    {
     "data": {
      "text/plain": [
       "(2, 3, 4, 5, 'mohit', False, (5+7j), [3, 4, 5])"
      ]
     },
     "execution_count": 42,
     "metadata": {},
     "output_type": "execute_result"
    }
   ],
   "source": [
    "t"
   ]
  },
  {
   "cell_type": "code",
   "execution_count": 43,
   "id": "7c65e1c7-e28f-4ed1-9199-bc15304fd8a1",
   "metadata": {},
   "outputs": [
    {
     "ename": "AttributeError",
     "evalue": "'tuple' object has no attribute 'reverse'",
     "output_type": "error",
     "traceback": [
      "\u001b[0;31m---------------------------------------------------------------------------\u001b[0m",
      "\u001b[0;31mAttributeError\u001b[0m                            Traceback (most recent call last)",
      "Cell \u001b[0;32mIn[43], line 1\u001b[0m\n\u001b[0;32m----> 1\u001b[0m \u001b[43mt\u001b[49m\u001b[38;5;241;43m.\u001b[39;49m\u001b[43mreverse\u001b[49m()\n",
      "\u001b[0;31mAttributeError\u001b[0m: 'tuple' object has no attribute 'reverse'"
     ]
    }
   ],
   "source": [
    "t.reverse()"
   ]
  },
  {
   "cell_type": "code",
   "execution_count": 44,
   "id": "e54f6f13-9952-4a6e-8796-0a3e5c2db98d",
   "metadata": {},
   "outputs": [
    {
     "data": {
      "text/plain": [
       "(2, 3, 4, 5, 'mohit', False, (5+7j), [3, 4, 5])"
      ]
     },
     "execution_count": 44,
     "metadata": {},
     "output_type": "execute_result"
    }
   ],
   "source": [
    "t"
   ]
  },
  {
   "cell_type": "code",
   "execution_count": 47,
   "id": "5566a216-d1e7-4364-865a-21266ffe22c0",
   "metadata": {},
   "outputs": [
    {
     "data": {
      "text/plain": [
       "5"
      ]
     },
     "execution_count": 47,
     "metadata": {},
     "output_type": "execute_result"
    }
   ],
   "source": [
    "t.index(False)"
   ]
  },
  {
   "cell_type": "code",
   "execution_count": 48,
   "id": "3a4fcd0b-006e-4a8c-942a-9ec88f9363d1",
   "metadata": {},
   "outputs": [
    {
     "data": {
      "text/plain": [
       "(2, 3, 4, 5, 'mohit', False, (5+7j), [3, 4, 5])"
      ]
     },
     "execution_count": 48,
     "metadata": {},
     "output_type": "execute_result"
    }
   ],
   "source": [
    "t"
   ]
  },
  {
   "cell_type": "code",
   "execution_count": 49,
   "id": "57f301e8-2da9-4ecf-9c4a-b41383459047",
   "metadata": {},
   "outputs": [],
   "source": [
    "s1={}"
   ]
  },
  {
   "cell_type": "code",
   "execution_count": 51,
   "id": "0ab0a624-619a-4155-b6e8-d3d8c83f1fd4",
   "metadata": {},
   "outputs": [
    {
     "data": {
      "text/plain": [
       "dict"
      ]
     },
     "execution_count": 51,
     "metadata": {},
     "output_type": "execute_result"
    }
   ],
   "source": [
    "type(s1)"
   ]
  },
  {
   "cell_type": "code",
   "execution_count": 52,
   "id": "132def1e-38fa-4b76-ab66-d20108cb071c",
   "metadata": {},
   "outputs": [],
   "source": [
    "s2= {2,3,4,5}"
   ]
  },
  {
   "cell_type": "code",
   "execution_count": 53,
   "id": "e40a7636-6697-43e5-963d-21faa5689a5f",
   "metadata": {},
   "outputs": [
    {
     "data": {
      "text/plain": [
       "set"
      ]
     },
     "execution_count": 53,
     "metadata": {},
     "output_type": "execute_result"
    }
   ],
   "source": [
    "type(s2)"
   ]
  },
  {
   "cell_type": "code",
   "execution_count": 54,
   "id": "509a971a-3025-4697-aab8-5e6e6646d2ea",
   "metadata": {},
   "outputs": [],
   "source": [
    "s3={23,45,45,'mohit',5-6j,(2,3,4)}"
   ]
  },
  {
   "cell_type": "code",
   "execution_count": 55,
   "id": "7ddd6529-9897-462f-b08f-3a16712da180",
   "metadata": {},
   "outputs": [
    {
     "data": {
      "text/plain": [
       "{(2, 3, 4), (5-6j), 23, 45, 'mohit'}"
      ]
     },
     "execution_count": 55,
     "metadata": {},
     "output_type": "execute_result"
    }
   ],
   "source": [
    "s3"
   ]
  },
  {
   "cell_type": "code",
   "execution_count": 56,
   "id": "a4df99e9-046b-40fa-bf82-de5c21e1afbf",
   "metadata": {},
   "outputs": [],
   "source": [
    "s4= {1,1,1,1,2,2,2,2,3,3,3,4,4,4,}"
   ]
  },
  {
   "cell_type": "code",
   "execution_count": 57,
   "id": "88ce0a9f-dfde-4063-900f-4f4b3f0bd5b9",
   "metadata": {},
   "outputs": [
    {
     "data": {
      "text/plain": [
       "{1, 2, 3, 4}"
      ]
     },
     "execution_count": 57,
     "metadata": {},
     "output_type": "execute_result"
    }
   ],
   "source": [
    "s4"
   ]
  },
  {
   "cell_type": "code",
   "execution_count": 63,
   "id": "df2a9a43-ed87-4249-bde6-9516c7f3a2c9",
   "metadata": {},
   "outputs": [],
   "source": [
    "s6= [1,1,1,13,3,3,2,2,2,2,3,4,4,54,'mohit']"
   ]
  },
  {
   "cell_type": "code",
   "execution_count": 64,
   "id": "2ec6c0ac-3f16-4f58-990e-11bc40021fc5",
   "metadata": {},
   "outputs": [
    {
     "data": {
      "text/plain": [
       "{1, 13, 2, 3, 4, 54, 'mohit'}"
      ]
     },
     "execution_count": 64,
     "metadata": {},
     "output_type": "execute_result"
    }
   ],
   "source": [
    "set(s6)"
   ]
  },
  {
   "cell_type": "code",
   "execution_count": 65,
   "id": "a5af27ef-b818-44c4-9ac9-14c329641772",
   "metadata": {},
   "outputs": [
    {
     "data": {
      "text/plain": [
       "''"
      ]
     },
     "execution_count": 65,
     "metadata": {},
     "output_type": "execute_result"
    }
   ],
   "source": [
    "str()"
   ]
  },
  {
   "cell_type": "code",
   "execution_count": 66,
   "id": "6977cc4d-ef6a-4137-a45c-0752d4d4a24a",
   "metadata": {},
   "outputs": [
    {
     "data": {
      "text/plain": [
       "0.0"
      ]
     },
     "execution_count": 66,
     "metadata": {},
     "output_type": "execute_result"
    }
   ],
   "source": [
    "float()"
   ]
  },
  {
   "cell_type": "code",
   "execution_count": 1,
   "id": "79b102b9-c014-42d8-b477-3d375a8df10a",
   "metadata": {},
   "outputs": [],
   "source": [
    "d={}"
   ]
  },
  {
   "cell_type": "code",
   "execution_count": 2,
   "id": "c37b96c6-4233-4da7-bf56-89440d22c316",
   "metadata": {},
   "outputs": [
    {
     "data": {
      "text/plain": [
       "dict"
      ]
     },
     "execution_count": 2,
     "metadata": {},
     "output_type": "execute_result"
    }
   ],
   "source": [
    "type(d)"
   ]
  },
  {
   "cell_type": "code",
   "execution_count": 3,
   "id": "71c71edb-251a-4cf8-ae8f-233f959206e9",
   "metadata": {},
   "outputs": [],
   "source": [
    "d1={'key' :\"mohit\"}"
   ]
  },
  {
   "cell_type": "code",
   "execution_count": 4,
   "id": "665f5342-bdca-4deb-9dfe-f2345147b9a5",
   "metadata": {},
   "outputs": [
    {
     "data": {
      "text/plain": [
       "{'key': 'mohit'}"
      ]
     },
     "execution_count": 4,
     "metadata": {},
     "output_type": "execute_result"
    }
   ],
   "source": [
    "d1"
   ]
  },
  {
   "cell_type": "code",
   "execution_count": 5,
   "id": "d24268f1-9d2b-4b62-acc5-3e8c8188acb9",
   "metadata": {},
   "outputs": [],
   "source": [
    "d2={'name': \"Mohit\", 'email': \"mhtkmr44@gmail.com\", 'number': 345678}"
   ]
  },
  {
   "cell_type": "code",
   "execution_count": 6,
   "id": "1968d9c6-460c-4e7a-85af-6abc3d2c7f07",
   "metadata": {},
   "outputs": [
    {
     "data": {
      "text/plain": [
       "{'name': 'Mohit', 'email': 'mhtkmr44@gmail.com', 'number': 345678}"
      ]
     },
     "execution_count": 6,
     "metadata": {},
     "output_type": "execute_result"
    }
   ],
   "source": [
    "d2"
   ]
  },
  {
   "cell_type": "code",
   "execution_count": 7,
   "id": "6fe6f9a3-e132-4215-8121-bd728bffda5e",
   "metadata": {},
   "outputs": [],
   "source": [
    "d3= {234: 'mohit'}"
   ]
  },
  {
   "cell_type": "code",
   "execution_count": 8,
   "id": "ebfa6442-8b08-4fe1-9fef-a9e641cce98a",
   "metadata": {},
   "outputs": [
    {
     "data": {
      "text/plain": [
       "{234: 'mohit'}"
      ]
     },
     "execution_count": 8,
     "metadata": {},
     "output_type": "execute_result"
    }
   ],
   "source": [
    "d3"
   ]
  },
  {
   "cell_type": "code",
   "execution_count": 10,
   "id": "0b4e309a-a4a9-4a49-a935-286c044f216a",
   "metadata": {},
   "outputs": [],
   "source": [
    "d4= {2345: 'mohit', '@wer': 'kumar', True: 5478}"
   ]
  },
  {
   "cell_type": "code",
   "execution_count": 11,
   "id": "dda28421-7e61-4490-b906-ece97ba0c80b",
   "metadata": {},
   "outputs": [
    {
     "data": {
      "text/plain": [
       "{2345: 'mohit', '@wer': 'kumar', True: 5478}"
      ]
     },
     "execution_count": 11,
     "metadata": {},
     "output_type": "execute_result"
    }
   ],
   "source": [
    "d4"
   ]
  },
  {
   "cell_type": "code",
   "execution_count": 12,
   "id": "a2cb480a-776d-4678-8101-a48d90f55e19",
   "metadata": {},
   "outputs": [
    {
     "data": {
      "text/plain": [
       "'kumar'"
      ]
     },
     "execution_count": 12,
     "metadata": {},
     "output_type": "execute_result"
    }
   ],
   "source": [
    "d4['@wer']"
   ]
  },
  {
   "cell_type": "code",
   "execution_count": 13,
   "id": "67a58787-18e3-4359-ac3f-143b53e38193",
   "metadata": {},
   "outputs": [
    {
     "data": {
      "text/plain": [
       "5478"
      ]
     },
     "execution_count": 13,
     "metadata": {},
     "output_type": "execute_result"
    }
   ],
   "source": [
    "d4[True]"
   ]
  },
  {
   "cell_type": "code",
   "execution_count": 14,
   "id": "22ddc4b2-2da3-4c8c-9b2c-dcb3e4978809",
   "metadata": {},
   "outputs": [
    {
     "data": {
      "text/plain": [
       "'mohit'"
      ]
     },
     "execution_count": 14,
     "metadata": {},
     "output_type": "execute_result"
    }
   ],
   "source": [
    "d4[2345]"
   ]
  },
  {
   "cell_type": "code",
   "execution_count": 16,
   "id": "e307d088-2b89-4206-bad7-06e03078f5ef",
   "metadata": {},
   "outputs": [
    {
     "data": {
      "text/plain": [
       "5478"
      ]
     },
     "execution_count": 16,
     "metadata": {},
     "output_type": "execute_result"
    }
   ],
   "source": [
    "d4[1]"
   ]
  },
  {
   "cell_type": "code",
   "execution_count": 19,
   "id": "029b2f53-f152-47ab-9f42-e4cc1215b522",
   "metadata": {},
   "outputs": [],
   "source": [
    "d5= {'name': 'mohit', 'mail_id': 'dgsh@gmail.com', 'name':'kumar'}"
   ]
  },
  {
   "cell_type": "code",
   "execution_count": 18,
   "id": "ce3a0c0b-5278-42ad-8031-9ee4ee7cb7d6",
   "metadata": {},
   "outputs": [
    {
     "data": {
      "text/plain": [
       "{'name': 'mohit', 'mail_id': 'dgsh@gmail.com'}"
      ]
     },
     "execution_count": 18,
     "metadata": {},
     "output_type": "execute_result"
    }
   ],
   "source": [
    "d5"
   ]
  },
  {
   "cell_type": "code",
   "execution_count": 20,
   "id": "7e869f17-a5de-4636-b036-ad35e9ec7053",
   "metadata": {},
   "outputs": [
    {
     "data": {
      "text/plain": [
       "{'name': 'kumar', 'mail_id': 'dgsh@gmail.com'}"
      ]
     },
     "execution_count": 20,
     "metadata": {},
     "output_type": "execute_result"
    }
   ],
   "source": [
    "d5"
   ]
  },
  {
   "cell_type": "code",
   "execution_count": 21,
   "id": "7b80f8b8-e4b8-4976-bdc6-b0868e49c84a",
   "metadata": {},
   "outputs": [],
   "source": [
    "d6={'company': \"pwskills\",'course': ['web design','data science', 'java']}"
   ]
  },
  {
   "cell_type": "code",
   "execution_count": 22,
   "id": "57bec3c6-7702-4ae3-a8cb-f581b227c28b",
   "metadata": {},
   "outputs": [
    {
     "data": {
      "text/plain": [
       "{'company': 'pwskills', 'course': ['web design', 'data science', 'java']}"
      ]
     },
     "execution_count": 22,
     "metadata": {},
     "output_type": "execute_result"
    }
   ],
   "source": [
    "d6"
   ]
  },
  {
   "cell_type": "code",
   "execution_count": 24,
   "id": "760e88b3-89ab-434e-9604-8b841f718894",
   "metadata": {},
   "outputs": [
    {
     "data": {
      "text/plain": [
       "['web design', 'data science', 'java']"
      ]
     },
     "execution_count": 24,
     "metadata": {},
     "output_type": "execute_result"
    }
   ],
   "source": [
    "d6['course']"
   ]
  },
  {
   "cell_type": "code",
   "execution_count": 25,
   "id": "e78fd0e3-105f-4782-ab2c-21a9ea311b4e",
   "metadata": {},
   "outputs": [
    {
     "data": {
      "text/plain": [
       "'java'"
      ]
     },
     "execution_count": 25,
     "metadata": {},
     "output_type": "execute_result"
    }
   ],
   "source": [
    "d6['course'][2]"
   ]
  },
  {
   "cell_type": "code",
   "execution_count": 27,
   "id": "3bba7775-3d7e-4eb4-bc7f-04b19f84c6b4",
   "metadata": {},
   "outputs": [],
   "source": [
    "d7= {'number':[2,3,4,5,6,7,8],'assignment:(1,2,3,4,5,6),''launch_date':{24,10,14},'class time': {'data science master':8}}"
   ]
  },
  {
   "cell_type": "code",
   "execution_count": 28,
   "id": "69bd655c-1e09-4969-8ce6-9835aa60b1b8",
   "metadata": {},
   "outputs": [
    {
     "data": {
      "text/plain": [
       "{'number': [2, 3, 4, 5, 6, 7, 8],\n",
       " 'assignment:(1,2,3,4,5,6),launch_date': {10, 14, 24},\n",
       " 'class time': {'data science master': 8}}"
      ]
     },
     "execution_count": 28,
     "metadata": {},
     "output_type": "execute_result"
    }
   ],
   "source": [
    "d7"
   ]
  },
  {
   "cell_type": "code",
   "execution_count": 29,
   "id": "7ad4b897-138c-4b32-9ba7-a519f7f6987c",
   "metadata": {},
   "outputs": [
    {
     "data": {
      "text/plain": [
       "{'data science master': 8}"
      ]
     },
     "execution_count": 29,
     "metadata": {},
     "output_type": "execute_result"
    }
   ],
   "source": [
    "d7['class time']"
   ]
  },
  {
   "cell_type": "code",
   "execution_count": 31,
   "id": "bd9aa0de-ec9d-4b54-a480-935a6345c461",
   "metadata": {},
   "outputs": [
    {
     "data": {
      "text/plain": [
       "8"
      ]
     },
     "execution_count": 31,
     "metadata": {},
     "output_type": "execute_result"
    }
   ],
   "source": [
    "d7['class time']['data science master']"
   ]
  },
  {
   "cell_type": "code",
   "execution_count": 32,
   "id": "0bdbbe91-ebdc-48f6-a5f9-b4ed05e48d9e",
   "metadata": {},
   "outputs": [],
   "source": [
    "d7['mentor']= ['sudhanshu','krish','anurag']"
   ]
  },
  {
   "cell_type": "code",
   "execution_count": 33,
   "id": "e6bc49db-5eca-4cab-821c-612e831b82b9",
   "metadata": {},
   "outputs": [
    {
     "data": {
      "text/plain": [
       "{'number': [2, 3, 4, 5, 6, 7, 8],\n",
       " 'assignment:(1,2,3,4,5,6),launch_date': {10, 14, 24},\n",
       " 'class time': {'data science master': 8},\n",
       " 'mentor': ['sudhanshu', 'krish', 'anurag']}"
      ]
     },
     "execution_count": 33,
     "metadata": {},
     "output_type": "execute_result"
    }
   ],
   "source": [
    "d7"
   ]
  },
  {
   "cell_type": "code",
   "execution_count": 34,
   "id": "2fad67be-2fc2-4f57-a8d3-84a013d7c75e",
   "metadata": {},
   "outputs": [],
   "source": [
    "del d7['class time']"
   ]
  },
  {
   "cell_type": "code",
   "execution_count": 35,
   "id": "5c7c07b4-d297-4df9-8ef0-a9226d17b326",
   "metadata": {},
   "outputs": [
    {
     "data": {
      "text/plain": [
       "{'number': [2, 3, 4, 5, 6, 7, 8],\n",
       " 'assignment:(1,2,3,4,5,6),launch_date': {10, 14, 24},\n",
       " 'mentor': ['sudhanshu', 'krish', 'anurag']}"
      ]
     },
     "execution_count": 35,
     "metadata": {},
     "output_type": "execute_result"
    }
   ],
   "source": [
    "d7"
   ]
  },
  {
   "cell_type": "code",
   "execution_count": 36,
   "id": "33aef0f9-e4d0-4fec-84f8-9035ad199f71",
   "metadata": {},
   "outputs": [
    {
     "data": {
      "text/plain": [
       "dict_keys(['number', 'assignment:(1,2,3,4,5,6),launch_date', 'mentor'])"
      ]
     },
     "execution_count": 36,
     "metadata": {},
     "output_type": "execute_result"
    }
   ],
   "source": [
    "d7.keys()"
   ]
  },
  {
   "cell_type": "code",
   "execution_count": 38,
   "id": "8551ae6b-5a96-45af-b555-0cbf4529e1fc",
   "metadata": {},
   "outputs": [
    {
     "data": {
      "text/plain": [
       "['number', 'assignment:(1,2,3,4,5,6),launch_date', 'mentor']"
      ]
     },
     "execution_count": 38,
     "metadata": {},
     "output_type": "execute_result"
    }
   ],
   "source": [
    "list (d7.keys())"
   ]
  },
  {
   "cell_type": "code",
   "execution_count": 39,
   "id": "d0eefafc-585e-48bc-9035-5b16fb912d55",
   "metadata": {},
   "outputs": [
    {
     "data": {
      "text/plain": [
       "dict_values([[2, 3, 4, 5, 6, 7, 8], {24, 10, 14}, ['sudhanshu', 'krish', 'anurag']])"
      ]
     },
     "execution_count": 39,
     "metadata": {},
     "output_type": "execute_result"
    }
   ],
   "source": [
    "d7.values()"
   ]
  },
  {
   "cell_type": "code",
   "execution_count": 41,
   "id": "5e7cdab9-69d4-4a7b-b2b3-0e8edcbfb0c3",
   "metadata": {},
   "outputs": [
    {
     "data": {
      "text/plain": [
       "[('number', [2, 3, 4, 5, 6, 7, 8]),\n",
       " ('assignment:(1,2,3,4,5,6),launch_date', {10, 14, 24}),\n",
       " ('mentor', ['sudhanshu', 'krish', 'anurag'])]"
      ]
     },
     "execution_count": 41,
     "metadata": {},
     "output_type": "execute_result"
    }
   ],
   "source": [
    "list(d7.items())"
   ]
  },
  {
   "cell_type": "code",
   "execution_count": 43,
   "id": "3f42e3d0-9450-41ca-95e5-7c0ee3bdac45",
   "metadata": {},
   "outputs": [
    {
     "data": {
      "text/plain": [
       "[2, 3, 4, 5, 6, 7, 8]"
      ]
     },
     "execution_count": 43,
     "metadata": {},
     "output_type": "execute_result"
    }
   ],
   "source": [
    "d7.pop('number')"
   ]
  },
  {
   "cell_type": "code",
   "execution_count": 44,
   "id": "354a92c3-f9a0-416d-9033-e15671bc383d",
   "metadata": {},
   "outputs": [
    {
     "data": {
      "text/plain": [
       "{'assignment:(1,2,3,4,5,6),launch_date': {10, 14, 24},\n",
       " 'mentor': ['sudhanshu', 'krish', 'anurag']}"
      ]
     },
     "execution_count": 44,
     "metadata": {},
     "output_type": "execute_result"
    }
   ],
   "source": [
    "d7"
   ]
  },
  {
   "cell_type": "code",
   "execution_count": null,
   "id": "781fdea4-f0ca-495e-b426-6d5b5cbcf16d",
   "metadata": {},
   "outputs": [],
   "source": [
    "marks =30\n",
    "if marks >=80 :\n",
    "    print ('you are part of A0 batch')\n",
    "    elif marks >=60 and <80 :\n",
    "        print('you are part of A1 batch')\n",
    "        elif marks >= 40 and <60 :\n",
    "            print('you are part of A2 batch')\n",
    "            else :\n",
    "                print('you are part of A3 batch')"
   ]
  },
  {
   "cell_type": "code",
   "execution_count": null,
   "id": "6e74f064-aa72-419a-b537-b20de6868774",
   "metadata": {},
   "outputs": [],
   "source": []
  }
 ],
 "metadata": {
  "kernelspec": {
   "display_name": "Python 3 (ipykernel)",
   "language": "python",
   "name": "python3"
  },
  "language_info": {
   "codemirror_mode": {
    "name": "ipython",
    "version": 3
   },
   "file_extension": ".py",
   "mimetype": "text/x-python",
   "name": "python",
   "nbconvert_exporter": "python",
   "pygments_lexer": "ipython3",
   "version": "3.10.8"
  }
 },
 "nbformat": 4,
 "nbformat_minor": 5
}
